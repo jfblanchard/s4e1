{
 "cells": [
  {
   "cell_type": "markdown",
   "id": "60dd92ed",
   "metadata": {
    "papermill": {
     "duration": 0.012185,
     "end_time": "2024-01-24T14:12:32.617213",
     "exception": false,
     "start_time": "2024-01-24T14:12:32.605028",
     "status": "completed"
    },
    "tags": []
   },
   "source": [
    "# Generate HMS-HBA Spectrogram files\n",
    "* Process and save spectrograms as images for training\n"
   ]
  },
  {
   "cell_type": "markdown",
   "id": "b6deaa52",
   "metadata": {
    "papermill": {
     "duration": 0.011715,
     "end_time": "2024-01-24T14:12:32.641346",
     "exception": false,
     "start_time": "2024-01-24T14:12:32.629631",
     "status": "completed"
    },
    "tags": []
   },
   "source": [
    "# Install libraries"
   ]
  },
  {
   "cell_type": "code",
   "execution_count": 1,
   "id": "f7972c11",
   "metadata": {
    "execution": {
     "iopub.execute_input": "2024-01-24T14:12:32.668709Z",
     "iopub.status.busy": "2024-01-24T14:12:32.667705Z",
     "iopub.status.idle": "2024-01-24T14:12:49.695018Z",
     "shell.execute_reply": "2024-01-24T14:12:49.693859Z"
    },
    "papermill": {
     "duration": 17.044237,
     "end_time": "2024-01-24T14:12:49.697902",
     "exception": false,
     "start_time": "2024-01-24T14:12:32.653665",
     "status": "completed"
    },
    "tags": []
   },
   "outputs": [
    {
     "name": "stdout",
     "output_type": "stream",
     "text": [
      "Collecting scienceplots\r\n",
      "  Obtaining dependency information for scienceplots from https://files.pythonhosted.org/packages/51/2a/debffdd7061c7a65ab46c51e671b895dc8231c4a14950849c40699eb2070/SciencePlots-2.1.1-py3-none-any.whl.metadata\r\n",
      "  Downloading SciencePlots-2.1.1-py3-none-any.whl.metadata (11 kB)\r\n",
      "Requirement already satisfied: matplotlib in /opt/conda/lib/python3.10/site-packages (from scienceplots) (3.7.4)\r\n",
      "Requirement already satisfied: contourpy>=1.0.1 in /opt/conda/lib/python3.10/site-packages (from matplotlib->scienceplots) (1.1.0)\r\n",
      "Requirement already satisfied: cycler>=0.10 in /opt/conda/lib/python3.10/site-packages (from matplotlib->scienceplots) (0.11.0)\r\n",
      "Requirement already satisfied: fonttools>=4.22.0 in /opt/conda/lib/python3.10/site-packages (from matplotlib->scienceplots) (4.42.1)\r\n",
      "Requirement already satisfied: kiwisolver>=1.0.1 in /opt/conda/lib/python3.10/site-packages (from matplotlib->scienceplots) (1.4.4)\r\n",
      "Requirement already satisfied: numpy<2,>=1.20 in /opt/conda/lib/python3.10/site-packages (from matplotlib->scienceplots) (1.24.3)\r\n",
      "Requirement already satisfied: packaging>=20.0 in /opt/conda/lib/python3.10/site-packages (from matplotlib->scienceplots) (21.3)\r\n",
      "Requirement already satisfied: pillow>=6.2.0 in /opt/conda/lib/python3.10/site-packages (from matplotlib->scienceplots) (9.5.0)\r\n",
      "Requirement already satisfied: pyparsing>=2.3.1 in /opt/conda/lib/python3.10/site-packages (from matplotlib->scienceplots) (3.0.9)\r\n",
      "Requirement already satisfied: python-dateutil>=2.7 in /opt/conda/lib/python3.10/site-packages (from matplotlib->scienceplots) (2.8.2)\r\n",
      "Requirement already satisfied: six>=1.5 in /opt/conda/lib/python3.10/site-packages (from python-dateutil>=2.7->matplotlib->scienceplots) (1.16.0)\r\n",
      "Downloading SciencePlots-2.1.1-py3-none-any.whl (16 kB)\r\n",
      "Installing collected packages: scienceplots\r\n",
      "Successfully installed scienceplots-2.1.1\r\n"
     ]
    }
   ],
   "source": [
    "!pip install scienceplots"
   ]
  },
  {
   "cell_type": "markdown",
   "id": "cfa342da",
   "metadata": {
    "papermill": {
     "duration": 0.012155,
     "end_time": "2024-01-24T14:12:49.723079",
     "exception": false,
     "start_time": "2024-01-24T14:12:49.710924",
     "status": "completed"
    },
    "tags": []
   },
   "source": [
    "# Import libraries"
   ]
  },
  {
   "cell_type": "code",
   "execution_count": 2,
   "id": "06181eec",
   "metadata": {
    "ExecuteTime": {
     "end_time": "2024-01-24T13:20:14.317992219Z",
     "start_time": "2024-01-24T13:20:14.206031655Z"
    },
    "collapsed": false,
    "execution": {
     "iopub.execute_input": "2024-01-24T14:12:49.751305Z",
     "iopub.status.busy": "2024-01-24T14:12:49.750794Z",
     "iopub.status.idle": "2024-01-24T14:12:52.132466Z",
     "shell.execute_reply": "2024-01-24T14:12:52.131511Z"
    },
    "jupyter": {
     "outputs_hidden": false
    },
    "papermill": {
     "duration": 2.399479,
     "end_time": "2024-01-24T14:12:52.135318",
     "exception": false,
     "start_time": "2024-01-24T14:12:49.735839",
     "status": "completed"
    },
    "tags": []
   },
   "outputs": [],
   "source": [
    "import os\n",
    "import cv2\n",
    "import glob\n",
    "import numpy as np\n",
    "import pandas as pd\n",
    "pd.set_option('display.max_columns', 50)\n",
    "\n",
    "import matplotlib.pyplot as plt\n",
    "import seaborn as sns\n",
    "sns.set_style('whitegrid')\n",
    "import scienceplots\n",
    "plt.style.use(['science','no-latex'])\n",
    "\n",
    "from tqdm import tqdm\n",
    "import warnings\n",
    "warnings.filterwarnings(\"ignore\")"
   ]
  },
  {
   "cell_type": "markdown",
   "id": "c828fde5",
   "metadata": {
    "papermill": {
     "duration": 0.012324,
     "end_time": "2024-01-24T14:12:52.161275",
     "exception": false,
     "start_time": "2024-01-24T14:12:52.148951",
     "status": "completed"
    },
    "tags": []
   },
   "source": [
    "# Load data"
   ]
  },
  {
   "cell_type": "code",
   "execution_count": 3,
   "id": "478558c0",
   "metadata": {
    "ExecuteTime": {
     "end_time": "2024-01-24T13:17:49.177909645Z",
     "start_time": "2024-01-24T13:17:49.127760371Z"
    },
    "collapsed": false,
    "execution": {
     "iopub.execute_input": "2024-01-24T14:12:52.188323Z",
     "iopub.status.busy": "2024-01-24T14:12:52.187745Z",
     "iopub.status.idle": "2024-01-24T14:12:52.486291Z",
     "shell.execute_reply": "2024-01-24T14:12:52.485097Z"
    },
    "jupyter": {
     "outputs_hidden": false
    },
    "papermill": {
     "duration": 0.315842,
     "end_time": "2024-01-24T14:12:52.489573",
     "exception": false,
     "start_time": "2024-01-24T14:12:52.173731",
     "status": "completed"
    },
    "tags": []
   },
   "outputs": [],
   "source": [
    "kaggle = True\n",
    "root_dir = '.'\n",
    "if kaggle:\n",
    "    root_dir = '/kaggle/input/hms-harmful-brain-activity-classification'\n",
    "\n",
    "train = pd.read_csv(root_dir + '/train.csv')\n",
    "test = pd.read_csv(root_dir + '/test.csv')\n",
    "ss = pd.read_csv(root_dir + '/sample_submission.csv')\n",
    "\n",
    "# set path variables\n",
    "train_eegs = root_dir + '/train_eegs'\n",
    "train_spectrograms = root_dir + '/train_spectrograms'\n"
   ]
  },
  {
   "cell_type": "markdown",
   "id": "51f9e8f6",
   "metadata": {
    "papermill": {
     "duration": 0.013117,
     "end_time": "2024-01-24T14:12:52.515511",
     "exception": false,
     "start_time": "2024-01-24T14:12:52.502394",
     "status": "completed"
    },
    "tags": []
   },
   "source": [
    "# Top level Stats"
   ]
  },
  {
   "cell_type": "code",
   "execution_count": 4,
   "id": "376d690d",
   "metadata": {
    "ExecuteTime": {
     "end_time": "2024-01-24T13:17:50.143505150Z",
     "start_time": "2024-01-24T13:17:50.132236203Z"
    },
    "collapsed": false,
    "execution": {
     "iopub.execute_input": "2024-01-24T14:12:52.543459Z",
     "iopub.status.busy": "2024-01-24T14:12:52.543066Z",
     "iopub.status.idle": "2024-01-24T14:12:52.594482Z",
     "shell.execute_reply": "2024-01-24T14:12:52.593456Z"
    },
    "jupyter": {
     "outputs_hidden": false
    },
    "papermill": {
     "duration": 0.068783,
     "end_time": "2024-01-24T14:12:52.596983",
     "exception": false,
     "start_time": "2024-01-24T14:12:52.528200",
     "status": "completed"
    },
    "tags": []
   },
   "outputs": [
    {
     "name": "stdout",
     "output_type": "stream",
     "text": [
      "Training Data Shape: (106800, 15)\n"
     ]
    },
    {
     "data": {
      "text/html": [
       "<div>\n",
       "<style scoped>\n",
       "    .dataframe tbody tr th:only-of-type {\n",
       "        vertical-align: middle;\n",
       "    }\n",
       "\n",
       "    .dataframe tbody tr th {\n",
       "        vertical-align: top;\n",
       "    }\n",
       "\n",
       "    .dataframe thead th {\n",
       "        text-align: right;\n",
       "    }\n",
       "</style>\n",
       "<table border=\"1\" class=\"dataframe\">\n",
       "  <thead>\n",
       "    <tr style=\"text-align: right;\">\n",
       "      <th></th>\n",
       "      <th>eeg_id</th>\n",
       "      <th>eeg_sub_id</th>\n",
       "      <th>eeg_label_offset_seconds</th>\n",
       "      <th>spectrogram_id</th>\n",
       "      <th>spectrogram_sub_id</th>\n",
       "      <th>spectrogram_label_offset_seconds</th>\n",
       "      <th>label_id</th>\n",
       "      <th>patient_id</th>\n",
       "      <th>expert_consensus</th>\n",
       "      <th>seizure_vote</th>\n",
       "      <th>lpd_vote</th>\n",
       "      <th>gpd_vote</th>\n",
       "      <th>lrda_vote</th>\n",
       "      <th>grda_vote</th>\n",
       "      <th>other_vote</th>\n",
       "    </tr>\n",
       "  </thead>\n",
       "  <tbody>\n",
       "    <tr>\n",
       "      <th>0</th>\n",
       "      <td>1628180742</td>\n",
       "      <td>0</td>\n",
       "      <td>0.0</td>\n",
       "      <td>353733</td>\n",
       "      <td>0</td>\n",
       "      <td>0.0</td>\n",
       "      <td>127492639</td>\n",
       "      <td>42516</td>\n",
       "      <td>Seizure</td>\n",
       "      <td>3</td>\n",
       "      <td>0</td>\n",
       "      <td>0</td>\n",
       "      <td>0</td>\n",
       "      <td>0</td>\n",
       "      <td>0</td>\n",
       "    </tr>\n",
       "    <tr>\n",
       "      <th>1</th>\n",
       "      <td>1628180742</td>\n",
       "      <td>1</td>\n",
       "      <td>6.0</td>\n",
       "      <td>353733</td>\n",
       "      <td>1</td>\n",
       "      <td>6.0</td>\n",
       "      <td>3887563113</td>\n",
       "      <td>42516</td>\n",
       "      <td>Seizure</td>\n",
       "      <td>3</td>\n",
       "      <td>0</td>\n",
       "      <td>0</td>\n",
       "      <td>0</td>\n",
       "      <td>0</td>\n",
       "      <td>0</td>\n",
       "    </tr>\n",
       "    <tr>\n",
       "      <th>2</th>\n",
       "      <td>1628180742</td>\n",
       "      <td>2</td>\n",
       "      <td>8.0</td>\n",
       "      <td>353733</td>\n",
       "      <td>2</td>\n",
       "      <td>8.0</td>\n",
       "      <td>1142670488</td>\n",
       "      <td>42516</td>\n",
       "      <td>Seizure</td>\n",
       "      <td>3</td>\n",
       "      <td>0</td>\n",
       "      <td>0</td>\n",
       "      <td>0</td>\n",
       "      <td>0</td>\n",
       "      <td>0</td>\n",
       "    </tr>\n",
       "    <tr>\n",
       "      <th>3</th>\n",
       "      <td>1628180742</td>\n",
       "      <td>3</td>\n",
       "      <td>18.0</td>\n",
       "      <td>353733</td>\n",
       "      <td>3</td>\n",
       "      <td>18.0</td>\n",
       "      <td>2718991173</td>\n",
       "      <td>42516</td>\n",
       "      <td>Seizure</td>\n",
       "      <td>3</td>\n",
       "      <td>0</td>\n",
       "      <td>0</td>\n",
       "      <td>0</td>\n",
       "      <td>0</td>\n",
       "      <td>0</td>\n",
       "    </tr>\n",
       "    <tr>\n",
       "      <th>4</th>\n",
       "      <td>1628180742</td>\n",
       "      <td>4</td>\n",
       "      <td>24.0</td>\n",
       "      <td>353733</td>\n",
       "      <td>4</td>\n",
       "      <td>24.0</td>\n",
       "      <td>3080632009</td>\n",
       "      <td>42516</td>\n",
       "      <td>Seizure</td>\n",
       "      <td>3</td>\n",
       "      <td>0</td>\n",
       "      <td>0</td>\n",
       "      <td>0</td>\n",
       "      <td>0</td>\n",
       "      <td>0</td>\n",
       "    </tr>\n",
       "  </tbody>\n",
       "</table>\n",
       "</div>"
      ],
      "text/plain": [
       "       eeg_id  eeg_sub_id  eeg_label_offset_seconds  spectrogram_id  \\\n",
       "0  1628180742           0                       0.0          353733   \n",
       "1  1628180742           1                       6.0          353733   \n",
       "2  1628180742           2                       8.0          353733   \n",
       "3  1628180742           3                      18.0          353733   \n",
       "4  1628180742           4                      24.0          353733   \n",
       "\n",
       "   spectrogram_sub_id  spectrogram_label_offset_seconds    label_id  \\\n",
       "0                   0                               0.0   127492639   \n",
       "1                   1                               6.0  3887563113   \n",
       "2                   2                               8.0  1142670488   \n",
       "3                   3                              18.0  2718991173   \n",
       "4                   4                              24.0  3080632009   \n",
       "\n",
       "   patient_id expert_consensus  seizure_vote  lpd_vote  gpd_vote  lrda_vote  \\\n",
       "0       42516          Seizure             3         0         0          0   \n",
       "1       42516          Seizure             3         0         0          0   \n",
       "2       42516          Seizure             3         0         0          0   \n",
       "3       42516          Seizure             3         0         0          0   \n",
       "4       42516          Seizure             3         0         0          0   \n",
       "\n",
       "   grda_vote  other_vote  \n",
       "0          0           0  \n",
       "1          0           0  \n",
       "2          0           0  \n",
       "3          0           0  \n",
       "4          0           0  "
      ]
     },
     "metadata": {},
     "output_type": "display_data"
    },
    {
     "name": "stdout",
     "output_type": "stream",
     "text": [
      "Test Data Shape: (1, 3)\n"
     ]
    },
    {
     "data": {
      "text/html": [
       "<div>\n",
       "<style scoped>\n",
       "    .dataframe tbody tr th:only-of-type {\n",
       "        vertical-align: middle;\n",
       "    }\n",
       "\n",
       "    .dataframe tbody tr th {\n",
       "        vertical-align: top;\n",
       "    }\n",
       "\n",
       "    .dataframe thead th {\n",
       "        text-align: right;\n",
       "    }\n",
       "</style>\n",
       "<table border=\"1\" class=\"dataframe\">\n",
       "  <thead>\n",
       "    <tr style=\"text-align: right;\">\n",
       "      <th></th>\n",
       "      <th>spectrogram_id</th>\n",
       "      <th>eeg_id</th>\n",
       "      <th>patient_id</th>\n",
       "    </tr>\n",
       "  </thead>\n",
       "  <tbody>\n",
       "    <tr>\n",
       "      <th>0</th>\n",
       "      <td>853520</td>\n",
       "      <td>3911565283</td>\n",
       "      <td>6885</td>\n",
       "    </tr>\n",
       "  </tbody>\n",
       "</table>\n",
       "</div>"
      ],
      "text/plain": [
       "   spectrogram_id      eeg_id  patient_id\n",
       "0          853520  3911565283        6885"
      ]
     },
     "metadata": {},
     "output_type": "display_data"
    },
    {
     "name": "stdout",
     "output_type": "stream",
     "text": [
      "Sample Submission Shape: (1, 7)\n"
     ]
    },
    {
     "data": {
      "text/html": [
       "<div>\n",
       "<style scoped>\n",
       "    .dataframe tbody tr th:only-of-type {\n",
       "        vertical-align: middle;\n",
       "    }\n",
       "\n",
       "    .dataframe tbody tr th {\n",
       "        vertical-align: top;\n",
       "    }\n",
       "\n",
       "    .dataframe thead th {\n",
       "        text-align: right;\n",
       "    }\n",
       "</style>\n",
       "<table border=\"1\" class=\"dataframe\">\n",
       "  <thead>\n",
       "    <tr style=\"text-align: right;\">\n",
       "      <th></th>\n",
       "      <th>eeg_id</th>\n",
       "      <th>seizure_vote</th>\n",
       "      <th>lpd_vote</th>\n",
       "      <th>gpd_vote</th>\n",
       "      <th>lrda_vote</th>\n",
       "      <th>grda_vote</th>\n",
       "      <th>other_vote</th>\n",
       "    </tr>\n",
       "  </thead>\n",
       "  <tbody>\n",
       "    <tr>\n",
       "      <th>0</th>\n",
       "      <td>3911565283</td>\n",
       "      <td>0.166667</td>\n",
       "      <td>0.166667</td>\n",
       "      <td>0.166667</td>\n",
       "      <td>0.166667</td>\n",
       "      <td>0.166667</td>\n",
       "      <td>0.166667</td>\n",
       "    </tr>\n",
       "  </tbody>\n",
       "</table>\n",
       "</div>"
      ],
      "text/plain": [
       "       eeg_id  seizure_vote  lpd_vote  gpd_vote  lrda_vote  grda_vote  \\\n",
       "0  3911565283      0.166667  0.166667  0.166667   0.166667   0.166667   \n",
       "\n",
       "   other_vote  \n",
       "0    0.166667  "
      ]
     },
     "metadata": {},
     "output_type": "display_data"
    }
   ],
   "source": [
    "# print all sets - assuming train,test, ss\n",
    "print(f'Training Data Shape: {train.shape}')\n",
    "display(train.head())\n",
    "print(f'Test Data Shape: {test.shape}')\n",
    "display(test.head())\n",
    "print(f'Sample Submission Shape: {ss.shape}')\n",
    "display(ss.head())"
   ]
  },
  {
   "cell_type": "markdown",
   "id": "69659ba9",
   "metadata": {
    "papermill": {
     "duration": 0.013148,
     "end_time": "2024-01-24T14:12:52.623488",
     "exception": false,
     "start_time": "2024-01-24T14:12:52.610340",
     "status": "completed"
    },
    "tags": []
   },
   "source": [
    "## Target Variable"
   ]
  },
  {
   "cell_type": "code",
   "execution_count": 5,
   "id": "b0de88a9",
   "metadata": {
    "ExecuteTime": {
     "end_time": "2024-01-24T13:17:51.550616704Z",
     "start_time": "2024-01-24T13:17:51.520454630Z"
    },
    "collapsed": false,
    "execution": {
     "iopub.execute_input": "2024-01-24T14:12:52.652838Z",
     "iopub.status.busy": "2024-01-24T14:12:52.652472Z",
     "iopub.status.idle": "2024-01-24T14:12:52.658242Z",
     "shell.execute_reply": "2024-01-24T14:12:52.657064Z"
    },
    "jupyter": {
     "outputs_hidden": false
    },
    "papermill": {
     "duration": 0.023984,
     "end_time": "2024-01-24T14:12:52.660975",
     "exception": false,
     "start_time": "2024-01-24T14:12:52.636991",
     "status": "completed"
    },
    "tags": []
   },
   "outputs": [
    {
     "name": "stdout",
     "output_type": "stream",
     "text": [
      "['seizure_vote', 'lpd_vote', 'gpd_vote', 'lrda_vote', 'grda_vote', 'other_vote']\n"
     ]
    }
   ],
   "source": [
    "targets = [col for col in train.columns if '_vote' in col]\n",
    "print(targets)"
   ]
  },
  {
   "cell_type": "code",
   "execution_count": 6,
   "id": "5612c00f",
   "metadata": {
    "ExecuteTime": {
     "end_time": "2024-01-24T13:17:52.947838907Z",
     "start_time": "2024-01-24T13:17:52.646433110Z"
    },
    "collapsed": false,
    "execution": {
     "iopub.execute_input": "2024-01-24T14:12:52.691029Z",
     "iopub.status.busy": "2024-01-24T14:12:52.690593Z",
     "iopub.status.idle": "2024-01-24T14:12:53.770202Z",
     "shell.execute_reply": "2024-01-24T14:12:53.769364Z"
    },
    "jupyter": {
     "outputs_hidden": false
    },
    "papermill": {
     "duration": 1.09798,
     "end_time": "2024-01-24T14:12:53.772637",
     "exception": false,
     "start_time": "2024-01-24T14:12:52.674657",
     "status": "completed"
    },
    "tags": []
   },
   "outputs": [
    {
     "data": {
      "image/png": "[encoded data removed]",
      "text/plain": [
       "<Figure size 350x262.5 with 1 Axes>"
      ]
     },
     "metadata": {},
     "output_type": "display_data"
    }
   ],
   "source": [
    "# create a total vote column which is the sum of all the target votes\n",
    "train['total_votes'] = train[targets].sum(axis=1)\n",
    "train.total_votes.plot(kind='hist',bins=20)\n",
    "plt.title('Distribution of Total Votes');"
   ]
  },
  {
   "cell_type": "code",
   "execution_count": 7,
   "id": "6ef23d00",
   "metadata": {
    "ExecuteTime": {
     "end_time": "2024-01-24T13:17:53.612616826Z",
     "start_time": "2024-01-24T13:17:53.591737391Z"
    },
    "collapsed": false,
    "execution": {
     "iopub.execute_input": "2024-01-24T14:12:53.802411Z",
     "iopub.status.busy": "2024-01-24T14:12:53.801750Z",
     "iopub.status.idle": "2024-01-24T14:12:53.832816Z",
     "shell.execute_reply": "2024-01-24T14:12:53.831943Z"
    },
    "jupyter": {
     "outputs_hidden": false
    },
    "papermill": {
     "duration": 0.048712,
     "end_time": "2024-01-24T14:12:53.835074",
     "exception": false,
     "start_time": "2024-01-24T14:12:53.786362",
     "status": "completed"
    },
    "tags": []
   },
   "outputs": [
    {
     "data": {
      "text/html": [
       "<div>\n",
       "<style scoped>\n",
       "    .dataframe tbody tr th:only-of-type {\n",
       "        vertical-align: middle;\n",
       "    }\n",
       "\n",
       "    .dataframe tbody tr th {\n",
       "        vertical-align: top;\n",
       "    }\n",
       "\n",
       "    .dataframe thead th {\n",
       "        text-align: right;\n",
       "    }\n",
       "</style>\n",
       "<table border=\"1\" class=\"dataframe\">\n",
       "  <thead>\n",
       "    <tr style=\"text-align: right;\">\n",
       "      <th></th>\n",
       "      <th>eeg_id</th>\n",
       "      <th>eeg_sub_id</th>\n",
       "      <th>eeg_label_offset_seconds</th>\n",
       "      <th>spectrogram_id</th>\n",
       "      <th>spectrogram_sub_id</th>\n",
       "      <th>spectrogram_label_offset_seconds</th>\n",
       "      <th>label_id</th>\n",
       "      <th>patient_id</th>\n",
       "      <th>expert_consensus</th>\n",
       "      <th>seizure_vote</th>\n",
       "      <th>lpd_vote</th>\n",
       "      <th>gpd_vote</th>\n",
       "      <th>lrda_vote</th>\n",
       "      <th>grda_vote</th>\n",
       "      <th>other_vote</th>\n",
       "      <th>total_votes</th>\n",
       "    </tr>\n",
       "  </thead>\n",
       "  <tbody>\n",
       "    <tr>\n",
       "      <th>0</th>\n",
       "      <td>1628180742</td>\n",
       "      <td>0</td>\n",
       "      <td>0.0</td>\n",
       "      <td>353733</td>\n",
       "      <td>0</td>\n",
       "      <td>0.0</td>\n",
       "      <td>127492639</td>\n",
       "      <td>42516</td>\n",
       "      <td>Seizure</td>\n",
       "      <td>1.0</td>\n",
       "      <td>0.0</td>\n",
       "      <td>0.0</td>\n",
       "      <td>0.0</td>\n",
       "      <td>0.0</td>\n",
       "      <td>0.0</td>\n",
       "      <td>3</td>\n",
       "    </tr>\n",
       "    <tr>\n",
       "      <th>1</th>\n",
       "      <td>1628180742</td>\n",
       "      <td>1</td>\n",
       "      <td>6.0</td>\n",
       "      <td>353733</td>\n",
       "      <td>1</td>\n",
       "      <td>6.0</td>\n",
       "      <td>3887563113</td>\n",
       "      <td>42516</td>\n",
       "      <td>Seizure</td>\n",
       "      <td>1.0</td>\n",
       "      <td>0.0</td>\n",
       "      <td>0.0</td>\n",
       "      <td>0.0</td>\n",
       "      <td>0.0</td>\n",
       "      <td>0.0</td>\n",
       "      <td>3</td>\n",
       "    </tr>\n",
       "    <tr>\n",
       "      <th>2</th>\n",
       "      <td>1628180742</td>\n",
       "      <td>2</td>\n",
       "      <td>8.0</td>\n",
       "      <td>353733</td>\n",
       "      <td>2</td>\n",
       "      <td>8.0</td>\n",
       "      <td>1142670488</td>\n",
       "      <td>42516</td>\n",
       "      <td>Seizure</td>\n",
       "      <td>1.0</td>\n",
       "      <td>0.0</td>\n",
       "      <td>0.0</td>\n",
       "      <td>0.0</td>\n",
       "      <td>0.0</td>\n",
       "      <td>0.0</td>\n",
       "      <td>3</td>\n",
       "    </tr>\n",
       "    <tr>\n",
       "      <th>3</th>\n",
       "      <td>1628180742</td>\n",
       "      <td>3</td>\n",
       "      <td>18.0</td>\n",
       "      <td>353733</td>\n",
       "      <td>3</td>\n",
       "      <td>18.0</td>\n",
       "      <td>2718991173</td>\n",
       "      <td>42516</td>\n",
       "      <td>Seizure</td>\n",
       "      <td>1.0</td>\n",
       "      <td>0.0</td>\n",
       "      <td>0.0</td>\n",
       "      <td>0.0</td>\n",
       "      <td>0.0</td>\n",
       "      <td>0.0</td>\n",
       "      <td>3</td>\n",
       "    </tr>\n",
       "    <tr>\n",
       "      <th>4</th>\n",
       "      <td>1628180742</td>\n",
       "      <td>4</td>\n",
       "      <td>24.0</td>\n",
       "      <td>353733</td>\n",
       "      <td>4</td>\n",
       "      <td>24.0</td>\n",
       "      <td>3080632009</td>\n",
       "      <td>42516</td>\n",
       "      <td>Seizure</td>\n",
       "      <td>1.0</td>\n",
       "      <td>0.0</td>\n",
       "      <td>0.0</td>\n",
       "      <td>0.0</td>\n",
       "      <td>0.0</td>\n",
       "      <td>0.0</td>\n",
       "      <td>3</td>\n",
       "    </tr>\n",
       "  </tbody>\n",
       "</table>\n",
       "</div>"
      ],
      "text/plain": [
       "       eeg_id  eeg_sub_id  eeg_label_offset_seconds  spectrogram_id  \\\n",
       "0  1628180742           0                       0.0          353733   \n",
       "1  1628180742           1                       6.0          353733   \n",
       "2  1628180742           2                       8.0          353733   \n",
       "3  1628180742           3                      18.0          353733   \n",
       "4  1628180742           4                      24.0          353733   \n",
       "\n",
       "   spectrogram_sub_id  spectrogram_label_offset_seconds    label_id  \\\n",
       "0                   0                               0.0   127492639   \n",
       "1                   1                               6.0  3887563113   \n",
       "2                   2                               8.0  1142670488   \n",
       "3                   3                              18.0  2718991173   \n",
       "4                   4                              24.0  3080632009   \n",
       "\n",
       "   patient_id expert_consensus  seizure_vote  lpd_vote  gpd_vote  lrda_vote  \\\n",
       "0       42516          Seizure           1.0       0.0       0.0        0.0   \n",
       "1       42516          Seizure           1.0       0.0       0.0        0.0   \n",
       "2       42516          Seizure           1.0       0.0       0.0        0.0   \n",
       "3       42516          Seizure           1.0       0.0       0.0        0.0   \n",
       "4       42516          Seizure           1.0       0.0       0.0        0.0   \n",
       "\n",
       "   grda_vote  other_vote  total_votes  \n",
       "0        0.0         0.0            3  \n",
       "1        0.0         0.0            3  \n",
       "2        0.0         0.0            3  \n",
       "3        0.0         0.0            3  \n",
       "4        0.0         0.0            3  "
      ]
     },
     "execution_count": 7,
     "metadata": {},
     "output_type": "execute_result"
    }
   ],
   "source": [
    "# divide all the targets by the total votes to get a normalized vote\n",
    "for target in targets:\n",
    "    train[target] = train[target] / train['total_votes']\n",
    "train.head()"
   ]
  },
  {
   "cell_type": "markdown",
   "id": "336a63c7",
   "metadata": {
    "papermill": {
     "duration": 0.014682,
     "end_time": "2024-01-24T14:12:53.864548",
     "exception": false,
     "start_time": "2024-01-24T14:12:53.849866",
     "status": "completed"
    },
    "tags": []
   },
   "source": [
    "# Groupby spectrogram_id and keep only first row\n",
    "* later will use the individual spectrogram sub_id's\n"
   ]
  },
  {
   "cell_type": "code",
   "execution_count": 8,
   "id": "6f65f4e4",
   "metadata": {
    "ExecuteTime": {
     "end_time": "2024-01-24T13:18:07.930894922Z",
     "start_time": "2024-01-24T13:18:07.892865643Z"
    },
    "collapsed": false,
    "execution": {
     "iopub.execute_input": "2024-01-24T14:12:53.896745Z",
     "iopub.status.busy": "2024-01-24T14:12:53.895763Z",
     "iopub.status.idle": "2024-01-24T14:12:53.959116Z",
     "shell.execute_reply": "2024-01-24T14:12:53.958294Z"
    },
    "jupyter": {
     "outputs_hidden": false
    },
    "papermill": {
     "duration": 0.082478,
     "end_time": "2024-01-24T14:12:53.961316",
     "exception": false,
     "start_time": "2024-01-24T14:12:53.878838",
     "status": "completed"
    },
    "tags": []
   },
   "outputs": [
    {
     "data": {
      "text/html": [
       "<div>\n",
       "<style scoped>\n",
       "    .dataframe tbody tr th:only-of-type {\n",
       "        vertical-align: middle;\n",
       "    }\n",
       "\n",
       "    .dataframe tbody tr th {\n",
       "        vertical-align: top;\n",
       "    }\n",
       "\n",
       "    .dataframe thead th {\n",
       "        text-align: right;\n",
       "    }\n",
       "</style>\n",
       "<table border=\"1\" class=\"dataframe\">\n",
       "  <thead>\n",
       "    <tr style=\"text-align: right;\">\n",
       "      <th></th>\n",
       "      <th>spectrogram_id</th>\n",
       "      <th>eeg_id</th>\n",
       "      <th>eeg_sub_id</th>\n",
       "      <th>eeg_label_offset_seconds</th>\n",
       "      <th>spectrogram_sub_id</th>\n",
       "      <th>spectrogram_label_offset_seconds</th>\n",
       "      <th>label_id</th>\n",
       "      <th>patient_id</th>\n",
       "      <th>expert_consensus</th>\n",
       "      <th>seizure_vote</th>\n",
       "      <th>lpd_vote</th>\n",
       "      <th>gpd_vote</th>\n",
       "      <th>lrda_vote</th>\n",
       "      <th>grda_vote</th>\n",
       "      <th>other_vote</th>\n",
       "      <th>total_votes</th>\n",
       "    </tr>\n",
       "  </thead>\n",
       "  <tbody>\n",
       "    <tr>\n",
       "      <th>0</th>\n",
       "      <td>353733</td>\n",
       "      <td>1628180742</td>\n",
       "      <td>0</td>\n",
       "      <td>0.0</td>\n",
       "      <td>0</td>\n",
       "      <td>0.0</td>\n",
       "      <td>127492639</td>\n",
       "      <td>42516</td>\n",
       "      <td>Seizure</td>\n",
       "      <td>1.0</td>\n",
       "      <td>0.0000</td>\n",
       "      <td>0.000000</td>\n",
       "      <td>0.000</td>\n",
       "      <td>0.000000</td>\n",
       "      <td>0.000000</td>\n",
       "      <td>3</td>\n",
       "    </tr>\n",
       "    <tr>\n",
       "      <th>1</th>\n",
       "      <td>924234</td>\n",
       "      <td>2277392603</td>\n",
       "      <td>0</td>\n",
       "      <td>0.0</td>\n",
       "      <td>0</td>\n",
       "      <td>0.0</td>\n",
       "      <td>1978807404</td>\n",
       "      <td>30539</td>\n",
       "      <td>GPD</td>\n",
       "      <td>0.0</td>\n",
       "      <td>0.0000</td>\n",
       "      <td>0.454545</td>\n",
       "      <td>0.000</td>\n",
       "      <td>0.090909</td>\n",
       "      <td>0.454545</td>\n",
       "      <td>11</td>\n",
       "    </tr>\n",
       "    <tr>\n",
       "      <th>2</th>\n",
       "      <td>999431</td>\n",
       "      <td>722738444</td>\n",
       "      <td>0</td>\n",
       "      <td>0.0</td>\n",
       "      <td>0</td>\n",
       "      <td>0.0</td>\n",
       "      <td>557980729</td>\n",
       "      <td>56885</td>\n",
       "      <td>LRDA</td>\n",
       "      <td>0.0</td>\n",
       "      <td>0.0625</td>\n",
       "      <td>0.000000</td>\n",
       "      <td>0.875</td>\n",
       "      <td>0.000000</td>\n",
       "      <td>0.062500</td>\n",
       "      <td>16</td>\n",
       "    </tr>\n",
       "    <tr>\n",
       "      <th>3</th>\n",
       "      <td>1084844</td>\n",
       "      <td>387987538</td>\n",
       "      <td>0</td>\n",
       "      <td>0.0</td>\n",
       "      <td>0</td>\n",
       "      <td>0.0</td>\n",
       "      <td>4099147263</td>\n",
       "      <td>4264</td>\n",
       "      <td>LRDA</td>\n",
       "      <td>0.0</td>\n",
       "      <td>0.0000</td>\n",
       "      <td>0.000000</td>\n",
       "      <td>1.000</td>\n",
       "      <td>0.000000</td>\n",
       "      <td>0.000000</td>\n",
       "      <td>3</td>\n",
       "    </tr>\n",
       "    <tr>\n",
       "      <th>4</th>\n",
       "      <td>1219001</td>\n",
       "      <td>2175806584</td>\n",
       "      <td>0</td>\n",
       "      <td>0.0</td>\n",
       "      <td>0</td>\n",
       "      <td>0.0</td>\n",
       "      <td>1963161945</td>\n",
       "      <td>23435</td>\n",
       "      <td>Seizure</td>\n",
       "      <td>1.0</td>\n",
       "      <td>0.0000</td>\n",
       "      <td>0.000000</td>\n",
       "      <td>0.000</td>\n",
       "      <td>0.000000</td>\n",
       "      <td>0.000000</td>\n",
       "      <td>3</td>\n",
       "    </tr>\n",
       "  </tbody>\n",
       "</table>\n",
       "</div>"
      ],
      "text/plain": [
       "   spectrogram_id      eeg_id  eeg_sub_id  eeg_label_offset_seconds  \\\n",
       "0          353733  1628180742           0                       0.0   \n",
       "1          924234  2277392603           0                       0.0   \n",
       "2          999431   722738444           0                       0.0   \n",
       "3         1084844   387987538           0                       0.0   \n",
       "4         1219001  2175806584           0                       0.0   \n",
       "\n",
       "   spectrogram_sub_id  spectrogram_label_offset_seconds    label_id  \\\n",
       "0                   0                               0.0   127492639   \n",
       "1                   0                               0.0  1978807404   \n",
       "2                   0                               0.0   557980729   \n",
       "3                   0                               0.0  4099147263   \n",
       "4                   0                               0.0  1963161945   \n",
       "\n",
       "   patient_id expert_consensus  seizure_vote  lpd_vote  gpd_vote  lrda_vote  \\\n",
       "0       42516          Seizure           1.0    0.0000  0.000000      0.000   \n",
       "1       30539              GPD           0.0    0.0000  0.454545      0.000   \n",
       "2       56885             LRDA           0.0    0.0625  0.000000      0.875   \n",
       "3        4264             LRDA           0.0    0.0000  0.000000      1.000   \n",
       "4       23435          Seizure           1.0    0.0000  0.000000      0.000   \n",
       "\n",
       "   grda_vote  other_vote  total_votes  \n",
       "0   0.000000    0.000000            3  \n",
       "1   0.090909    0.454545           11  \n",
       "2   0.000000    0.062500           16  \n",
       "3   0.000000    0.000000            3  \n",
       "4   0.000000    0.000000            3  "
      ]
     },
     "execution_count": 8,
     "metadata": {},
     "output_type": "execute_result"
    }
   ],
   "source": [
    "# groupby spectrogram_id and keep only first row\n",
    "train_unique = train.groupby('spectrogram_id').first().reset_index()\n",
    "train_unique.head()"
   ]
  },
  {
   "cell_type": "code",
   "execution_count": 9,
   "id": "4e1d7963",
   "metadata": {
    "ExecuteTime": {
     "end_time": "2024-01-24T13:18:10.455431592Z",
     "start_time": "2024-01-24T13:18:10.440624413Z"
    },
    "collapsed": false,
    "execution": {
     "iopub.execute_input": "2024-01-24T14:12:53.992392Z",
     "iopub.status.busy": "2024-01-24T14:12:53.991717Z",
     "iopub.status.idle": "2024-01-24T14:12:53.997274Z",
     "shell.execute_reply": "2024-01-24T14:12:53.996545Z"
    },
    "jupyter": {
     "outputs_hidden": false
    },
    "papermill": {
     "duration": 0.023438,
     "end_time": "2024-01-24T14:12:53.999306",
     "exception": false,
     "start_time": "2024-01-24T14:12:53.975868",
     "status": "completed"
    },
    "tags": []
   },
   "outputs": [
    {
     "data": {
      "text/plain": [
       "11138"
      ]
     },
     "execution_count": 9,
     "metadata": {},
     "output_type": "execute_result"
    }
   ],
   "source": [
    "len(train_unique)"
   ]
  },
  {
   "cell_type": "code",
   "execution_count": 10,
   "id": "dcbd87fa",
   "metadata": {
    "ExecuteTime": {
     "end_time": "2024-01-24T13:18:10.862420497Z",
     "start_time": "2024-01-24T13:18:10.829312752Z"
    },
    "collapsed": false,
    "execution": {
     "iopub.execute_input": "2024-01-24T14:12:54.030513Z",
     "iopub.status.busy": "2024-01-24T14:12:54.030064Z",
     "iopub.status.idle": "2024-01-24T14:12:54.317009Z",
     "shell.execute_reply": "2024-01-24T14:12:54.314980Z"
    },
    "jupyter": {
     "outputs_hidden": false
    },
    "papermill": {
     "duration": 0.306123,
     "end_time": "2024-01-24T14:12:54.319963",
     "exception": false,
     "start_time": "2024-01-24T14:12:54.013840",
     "status": "completed"
    },
    "tags": []
   },
   "outputs": [
    {
     "data": {
      "text/plain": [
       "True"
      ]
     },
     "execution_count": 10,
     "metadata": {},
     "output_type": "execute_result"
    }
   ],
   "source": [
    "# use glob to make a list of files in the spectrogram directory and verify same number\n",
    "spectrograms = glob.glob(train_spectrograms + '/*.parquet')\n",
    "len(spectrograms) == len(train_unique)\n"
   ]
  },
  {
   "cell_type": "markdown",
   "id": "fbed8e4f",
   "metadata": {
    "papermill": {
     "duration": 0.015253,
     "end_time": "2024-01-24T14:12:54.418516",
     "exception": false,
     "start_time": "2024-01-24T14:12:54.403263",
     "status": "completed"
    },
    "tags": []
   },
   "source": [
    "# Drop total_votes column"
   ]
  },
  {
   "cell_type": "code",
   "execution_count": 11,
   "id": "c638f907",
   "metadata": {
    "ExecuteTime": {
     "end_time": "2024-01-24T13:18:13.572535257Z",
     "start_time": "2024-01-24T13:18:13.565809898Z"
    },
    "collapsed": false,
    "execution": {
     "iopub.execute_input": "2024-01-24T14:12:54.451038Z",
     "iopub.status.busy": "2024-01-24T14:12:54.450325Z",
     "iopub.status.idle": "2024-01-24T14:12:54.456215Z",
     "shell.execute_reply": "2024-01-24T14:12:54.455489Z"
    },
    "jupyter": {
     "outputs_hidden": false
    },
    "papermill": {
     "duration": 0.024754,
     "end_time": "2024-01-24T14:12:54.458429",
     "exception": false,
     "start_time": "2024-01-24T14:12:54.433675",
     "status": "completed"
    },
    "tags": []
   },
   "outputs": [],
   "source": [
    "# drop total_votes column from train_unique\n",
    "train_unique.drop('total_votes',axis=1,inplace=True)"
   ]
  },
  {
   "cell_type": "markdown",
   "id": "03551155",
   "metadata": {
    "papermill": {
     "duration": 0.014651,
     "end_time": "2024-01-24T14:12:54.488061",
     "exception": false,
     "start_time": "2024-01-24T14:12:54.473410",
     "status": "completed"
    },
    "tags": []
   },
   "source": [
    "# Open a spectrogram file\n",
    "* Look at format of spectrogram files\n"
   ]
  },
  {
   "cell_type": "code",
   "execution_count": 12,
   "id": "4a34d088",
   "metadata": {
    "ExecuteTime": {
     "end_time": "2024-01-24T13:18:43.784617109Z",
     "start_time": "2024-01-24T13:18:43.715665679Z"
    },
    "collapsed": false,
    "execution": {
     "iopub.execute_input": "2024-01-24T14:12:54.527146Z",
     "iopub.status.busy": "2024-01-24T14:12:54.526258Z",
     "iopub.status.idle": "2024-01-24T14:12:54.800084Z",
     "shell.execute_reply": "2024-01-24T14:12:54.798974Z"
    },
    "jupyter": {
     "outputs_hidden": false
    },
    "papermill": {
     "duration": 0.298549,
     "end_time": "2024-01-24T14:12:54.804654",
     "exception": false,
     "start_time": "2024-01-24T14:12:54.506105",
     "status": "completed"
    },
    "tags": []
   },
   "outputs": [
    {
     "name": "stdout",
     "output_type": "stream",
     "text": [
      "Spectrogram shape: (408, 401)\n"
     ]
    },
    {
     "data": {
      "text/html": [
       "<div>\n",
       "<style scoped>\n",
       "    .dataframe tbody tr th:only-of-type {\n",
       "        vertical-align: middle;\n",
       "    }\n",
       "\n",
       "    .dataframe tbody tr th {\n",
       "        vertical-align: top;\n",
       "    }\n",
       "\n",
       "    .dataframe thead th {\n",
       "        text-align: right;\n",
       "    }\n",
       "</style>\n",
       "<table border=\"1\" class=\"dataframe\">\n",
       "  <thead>\n",
       "    <tr style=\"text-align: right;\">\n",
       "      <th></th>\n",
       "      <th>time</th>\n",
       "      <th>LL_0.59</th>\n",
       "      <th>LL_0.78</th>\n",
       "      <th>LL_0.98</th>\n",
       "      <th>LL_1.17</th>\n",
       "      <th>LL_1.37</th>\n",
       "      <th>LL_1.56</th>\n",
       "      <th>LL_1.76</th>\n",
       "      <th>LL_1.95</th>\n",
       "      <th>LL_2.15</th>\n",
       "      <th>LL_2.34</th>\n",
       "      <th>LL_2.54</th>\n",
       "      <th>LL_2.73</th>\n",
       "      <th>LL_2.93</th>\n",
       "      <th>LL_3.13</th>\n",
       "      <th>LL_3.32</th>\n",
       "      <th>LL_3.52</th>\n",
       "      <th>LL_3.71</th>\n",
       "      <th>LL_3.91</th>\n",
       "      <th>LL_4.1</th>\n",
       "      <th>LL_4.3</th>\n",
       "      <th>LL_4.49</th>\n",
       "      <th>LL_4.69</th>\n",
       "      <th>LL_4.88</th>\n",
       "      <th>LL_5.08</th>\n",
       "      <th>...</th>\n",
       "      <th>RP_15.23</th>\n",
       "      <th>RP_15.43</th>\n",
       "      <th>RP_15.63</th>\n",
       "      <th>RP_15.82</th>\n",
       "      <th>RP_16.02</th>\n",
       "      <th>RP_16.21</th>\n",
       "      <th>RP_16.41</th>\n",
       "      <th>RP_16.6</th>\n",
       "      <th>RP_16.8</th>\n",
       "      <th>RP_16.99</th>\n",
       "      <th>RP_17.19</th>\n",
       "      <th>RP_17.38</th>\n",
       "      <th>RP_17.58</th>\n",
       "      <th>RP_17.77</th>\n",
       "      <th>RP_17.97</th>\n",
       "      <th>RP_18.16</th>\n",
       "      <th>RP_18.36</th>\n",
       "      <th>RP_18.55</th>\n",
       "      <th>RP_18.75</th>\n",
       "      <th>RP_18.95</th>\n",
       "      <th>RP_19.14</th>\n",
       "      <th>RP_19.34</th>\n",
       "      <th>RP_19.53</th>\n",
       "      <th>RP_19.73</th>\n",
       "      <th>RP_19.92</th>\n",
       "    </tr>\n",
       "  </thead>\n",
       "  <tbody>\n",
       "    <tr>\n",
       "      <th>0</th>\n",
       "      <td>1</td>\n",
       "      <td>42.840000</td>\n",
       "      <td>64.959999</td>\n",
       "      <td>74.739998</td>\n",
       "      <td>68.199997</td>\n",
       "      <td>65.529999</td>\n",
       "      <td>49.970001</td>\n",
       "      <td>26.570000</td>\n",
       "      <td>10.670000</td>\n",
       "      <td>8.13</td>\n",
       "      <td>7.17</td>\n",
       "      <td>7.54</td>\n",
       "      <td>5.78</td>\n",
       "      <td>4.51</td>\n",
       "      <td>2.95</td>\n",
       "      <td>2.54</td>\n",
       "      <td>1.15</td>\n",
       "      <td>1.07</td>\n",
       "      <td>0.76</td>\n",
       "      <td>0.55</td>\n",
       "      <td>0.64</td>\n",
       "      <td>0.67</td>\n",
       "      <td>0.66</td>\n",
       "      <td>0.62</td>\n",
       "      <td>0.43</td>\n",
       "      <td>...</td>\n",
       "      <td>0.14</td>\n",
       "      <td>0.14</td>\n",
       "      <td>0.10</td>\n",
       "      <td>0.11</td>\n",
       "      <td>0.13</td>\n",
       "      <td>0.13</td>\n",
       "      <td>0.11</td>\n",
       "      <td>0.10</td>\n",
       "      <td>0.06</td>\n",
       "      <td>0.06</td>\n",
       "      <td>0.05</td>\n",
       "      <td>0.03</td>\n",
       "      <td>0.04</td>\n",
       "      <td>0.06</td>\n",
       "      <td>0.06</td>\n",
       "      <td>0.04</td>\n",
       "      <td>0.03</td>\n",
       "      <td>0.02</td>\n",
       "      <td>0.04</td>\n",
       "      <td>0.04</td>\n",
       "      <td>0.03</td>\n",
       "      <td>0.02</td>\n",
       "      <td>0.02</td>\n",
       "      <td>0.03</td>\n",
       "      <td>0.03</td>\n",
       "    </tr>\n",
       "    <tr>\n",
       "      <th>1</th>\n",
       "      <td>3</td>\n",
       "      <td>71.879997</td>\n",
       "      <td>76.199997</td>\n",
       "      <td>92.510002</td>\n",
       "      <td>59.869999</td>\n",
       "      <td>52.480000</td>\n",
       "      <td>36.360001</td>\n",
       "      <td>22.139999</td>\n",
       "      <td>11.690000</td>\n",
       "      <td>7.05</td>\n",
       "      <td>8.28</td>\n",
       "      <td>6.30</td>\n",
       "      <td>6.76</td>\n",
       "      <td>4.53</td>\n",
       "      <td>4.49</td>\n",
       "      <td>2.83</td>\n",
       "      <td>2.90</td>\n",
       "      <td>3.01</td>\n",
       "      <td>2.26</td>\n",
       "      <td>1.97</td>\n",
       "      <td>1.19</td>\n",
       "      <td>0.77</td>\n",
       "      <td>0.53</td>\n",
       "      <td>0.48</td>\n",
       "      <td>0.26</td>\n",
       "      <td>...</td>\n",
       "      <td>0.20</td>\n",
       "      <td>0.28</td>\n",
       "      <td>0.20</td>\n",
       "      <td>0.30</td>\n",
       "      <td>0.24</td>\n",
       "      <td>0.19</td>\n",
       "      <td>0.23</td>\n",
       "      <td>0.14</td>\n",
       "      <td>0.14</td>\n",
       "      <td>0.12</td>\n",
       "      <td>0.09</td>\n",
       "      <td>0.06</td>\n",
       "      <td>0.09</td>\n",
       "      <td>0.07</td>\n",
       "      <td>0.05</td>\n",
       "      <td>0.05</td>\n",
       "      <td>0.04</td>\n",
       "      <td>0.03</td>\n",
       "      <td>0.03</td>\n",
       "      <td>0.04</td>\n",
       "      <td>0.04</td>\n",
       "      <td>0.03</td>\n",
       "      <td>0.03</td>\n",
       "      <td>0.02</td>\n",
       "      <td>0.02</td>\n",
       "    </tr>\n",
       "    <tr>\n",
       "      <th>2</th>\n",
       "      <td>5</td>\n",
       "      <td>71.070000</td>\n",
       "      <td>69.919998</td>\n",
       "      <td>85.910004</td>\n",
       "      <td>55.189999</td>\n",
       "      <td>27.730000</td>\n",
       "      <td>14.450000</td>\n",
       "      <td>6.990000</td>\n",
       "      <td>4.560000</td>\n",
       "      <td>4.34</td>\n",
       "      <td>6.78</td>\n",
       "      <td>4.09</td>\n",
       "      <td>4.22</td>\n",
       "      <td>4.22</td>\n",
       "      <td>3.19</td>\n",
       "      <td>3.00</td>\n",
       "      <td>2.67</td>\n",
       "      <td>2.93</td>\n",
       "      <td>2.24</td>\n",
       "      <td>1.59</td>\n",
       "      <td>1.74</td>\n",
       "      <td>0.91</td>\n",
       "      <td>0.59</td>\n",
       "      <td>0.69</td>\n",
       "      <td>0.62</td>\n",
       "      <td>...</td>\n",
       "      <td>0.10</td>\n",
       "      <td>0.22</td>\n",
       "      <td>0.24</td>\n",
       "      <td>0.24</td>\n",
       "      <td>0.21</td>\n",
       "      <td>0.12</td>\n",
       "      <td>0.09</td>\n",
       "      <td>0.13</td>\n",
       "      <td>0.13</td>\n",
       "      <td>0.10</td>\n",
       "      <td>0.07</td>\n",
       "      <td>0.06</td>\n",
       "      <td>0.02</td>\n",
       "      <td>0.03</td>\n",
       "      <td>0.04</td>\n",
       "      <td>0.06</td>\n",
       "      <td>0.06</td>\n",
       "      <td>0.07</td>\n",
       "      <td>0.04</td>\n",
       "      <td>0.04</td>\n",
       "      <td>0.02</td>\n",
       "      <td>0.03</td>\n",
       "      <td>0.04</td>\n",
       "      <td>0.02</td>\n",
       "      <td>0.03</td>\n",
       "    </tr>\n",
       "    <tr>\n",
       "      <th>3</th>\n",
       "      <td>7</td>\n",
       "      <td>59.910000</td>\n",
       "      <td>92.000000</td>\n",
       "      <td>95.970001</td>\n",
       "      <td>100.220001</td>\n",
       "      <td>72.419998</td>\n",
       "      <td>38.990002</td>\n",
       "      <td>19.840000</td>\n",
       "      <td>13.800000</td>\n",
       "      <td>10.47</td>\n",
       "      <td>7.21</td>\n",
       "      <td>5.50</td>\n",
       "      <td>3.78</td>\n",
       "      <td>2.48</td>\n",
       "      <td>2.61</td>\n",
       "      <td>1.98</td>\n",
       "      <td>1.40</td>\n",
       "      <td>1.08</td>\n",
       "      <td>0.85</td>\n",
       "      <td>0.82</td>\n",
       "      <td>0.75</td>\n",
       "      <td>0.81</td>\n",
       "      <td>0.73</td>\n",
       "      <td>0.54</td>\n",
       "      <td>0.51</td>\n",
       "      <td>...</td>\n",
       "      <td>0.07</td>\n",
       "      <td>0.13</td>\n",
       "      <td>0.11</td>\n",
       "      <td>0.12</td>\n",
       "      <td>0.11</td>\n",
       "      <td>0.09</td>\n",
       "      <td>0.09</td>\n",
       "      <td>0.09</td>\n",
       "      <td>0.09</td>\n",
       "      <td>0.08</td>\n",
       "      <td>0.05</td>\n",
       "      <td>0.04</td>\n",
       "      <td>0.04</td>\n",
       "      <td>0.04</td>\n",
       "      <td>0.05</td>\n",
       "      <td>0.06</td>\n",
       "      <td>0.06</td>\n",
       "      <td>0.06</td>\n",
       "      <td>0.06</td>\n",
       "      <td>0.04</td>\n",
       "      <td>0.01</td>\n",
       "      <td>0.02</td>\n",
       "      <td>0.02</td>\n",
       "      <td>0.02</td>\n",
       "      <td>0.02</td>\n",
       "    </tr>\n",
       "    <tr>\n",
       "      <th>4</th>\n",
       "      <td>9</td>\n",
       "      <td>31.120001</td>\n",
       "      <td>52.810001</td>\n",
       "      <td>45.450001</td>\n",
       "      <td>45.720001</td>\n",
       "      <td>37.919998</td>\n",
       "      <td>23.990000</td>\n",
       "      <td>20.049999</td>\n",
       "      <td>19.530001</td>\n",
       "      <td>10.60</td>\n",
       "      <td>11.19</td>\n",
       "      <td>7.68</td>\n",
       "      <td>5.52</td>\n",
       "      <td>4.16</td>\n",
       "      <td>3.39</td>\n",
       "      <td>3.42</td>\n",
       "      <td>2.98</td>\n",
       "      <td>2.06</td>\n",
       "      <td>1.57</td>\n",
       "      <td>1.46</td>\n",
       "      <td>1.10</td>\n",
       "      <td>1.18</td>\n",
       "      <td>0.63</td>\n",
       "      <td>0.55</td>\n",
       "      <td>0.43</td>\n",
       "      <td>...</td>\n",
       "      <td>0.11</td>\n",
       "      <td>0.12</td>\n",
       "      <td>0.11</td>\n",
       "      <td>0.09</td>\n",
       "      <td>0.08</td>\n",
       "      <td>0.08</td>\n",
       "      <td>0.09</td>\n",
       "      <td>0.10</td>\n",
       "      <td>0.08</td>\n",
       "      <td>0.10</td>\n",
       "      <td>0.08</td>\n",
       "      <td>0.09</td>\n",
       "      <td>0.06</td>\n",
       "      <td>0.08</td>\n",
       "      <td>0.05</td>\n",
       "      <td>0.04</td>\n",
       "      <td>0.03</td>\n",
       "      <td>0.04</td>\n",
       "      <td>0.04</td>\n",
       "      <td>0.03</td>\n",
       "      <td>0.03</td>\n",
       "      <td>0.01</td>\n",
       "      <td>0.01</td>\n",
       "      <td>0.01</td>\n",
       "      <td>0.02</td>\n",
       "    </tr>\n",
       "  </tbody>\n",
       "</table>\n",
       "<p>5 rows × 401 columns</p>\n",
       "</div>"
      ],
      "text/plain": [
       "   time    LL_0.59    LL_0.78    LL_0.98     LL_1.17    LL_1.37    LL_1.56  \\\n",
       "0     1  42.840000  64.959999  74.739998   68.199997  65.529999  49.970001   \n",
       "1     3  71.879997  76.199997  92.510002   59.869999  52.480000  36.360001   \n",
       "2     5  71.070000  69.919998  85.910004   55.189999  27.730000  14.450000   \n",
       "3     7  59.910000  92.000000  95.970001  100.220001  72.419998  38.990002   \n",
       "4     9  31.120001  52.810001  45.450001   45.720001  37.919998  23.990000   \n",
       "\n",
       "     LL_1.76    LL_1.95  LL_2.15  LL_2.34  LL_2.54  LL_2.73  LL_2.93  LL_3.13  \\\n",
       "0  26.570000  10.670000     8.13     7.17     7.54     5.78     4.51     2.95   \n",
       "1  22.139999  11.690000     7.05     8.28     6.30     6.76     4.53     4.49   \n",
       "2   6.990000   4.560000     4.34     6.78     4.09     4.22     4.22     3.19   \n",
       "3  19.840000  13.800000    10.47     7.21     5.50     3.78     2.48     2.61   \n",
       "4  20.049999  19.530001    10.60    11.19     7.68     5.52     4.16     3.39   \n",
       "\n",
       "   LL_3.32  LL_3.52  LL_3.71  LL_3.91  LL_4.1  LL_4.3  LL_4.49  LL_4.69  \\\n",
       "0     2.54     1.15     1.07     0.76    0.55    0.64     0.67     0.66   \n",
       "1     2.83     2.90     3.01     2.26    1.97    1.19     0.77     0.53   \n",
       "2     3.00     2.67     2.93     2.24    1.59    1.74     0.91     0.59   \n",
       "3     1.98     1.40     1.08     0.85    0.82    0.75     0.81     0.73   \n",
       "4     3.42     2.98     2.06     1.57    1.46    1.10     1.18     0.63   \n",
       "\n",
       "   LL_4.88  LL_5.08  ...  RP_15.23  RP_15.43  RP_15.63  RP_15.82  RP_16.02  \\\n",
       "0     0.62     0.43  ...      0.14      0.14      0.10      0.11      0.13   \n",
       "1     0.48     0.26  ...      0.20      0.28      0.20      0.30      0.24   \n",
       "2     0.69     0.62  ...      0.10      0.22      0.24      0.24      0.21   \n",
       "3     0.54     0.51  ...      0.07      0.13      0.11      0.12      0.11   \n",
       "4     0.55     0.43  ...      0.11      0.12      0.11      0.09      0.08   \n",
       "\n",
       "   RP_16.21  RP_16.41  RP_16.6  RP_16.8  RP_16.99  RP_17.19  RP_17.38  \\\n",
       "0      0.13      0.11     0.10     0.06      0.06      0.05      0.03   \n",
       "1      0.19      0.23     0.14     0.14      0.12      0.09      0.06   \n",
       "2      0.12      0.09     0.13     0.13      0.10      0.07      0.06   \n",
       "3      0.09      0.09     0.09     0.09      0.08      0.05      0.04   \n",
       "4      0.08      0.09     0.10     0.08      0.10      0.08      0.09   \n",
       "\n",
       "   RP_17.58  RP_17.77  RP_17.97  RP_18.16  RP_18.36  RP_18.55  RP_18.75  \\\n",
       "0      0.04      0.06      0.06      0.04      0.03      0.02      0.04   \n",
       "1      0.09      0.07      0.05      0.05      0.04      0.03      0.03   \n",
       "2      0.02      0.03      0.04      0.06      0.06      0.07      0.04   \n",
       "3      0.04      0.04      0.05      0.06      0.06      0.06      0.06   \n",
       "4      0.06      0.08      0.05      0.04      0.03      0.04      0.04   \n",
       "\n",
       "   RP_18.95  RP_19.14  RP_19.34  RP_19.53  RP_19.73  RP_19.92  \n",
       "0      0.04      0.03      0.02      0.02      0.03      0.03  \n",
       "1      0.04      0.04      0.03      0.03      0.02      0.02  \n",
       "2      0.04      0.02      0.03      0.04      0.02      0.03  \n",
       "3      0.04      0.01      0.02      0.02      0.02      0.02  \n",
       "4      0.03      0.03      0.01      0.01      0.01      0.02  \n",
       "\n",
       "[5 rows x 401 columns]"
      ]
     },
     "execution_count": 12,
     "metadata": {},
     "output_type": "execute_result"
    }
   ],
   "source": [
    "# open the first spectrogram file\n",
    "spect1 = pd.read_parquet(spectrograms[0])\n",
    "print(f'Spectrogram shape: {spect1.shape}')\n",
    "spect1.head()"
   ]
  },
  {
   "cell_type": "markdown",
   "id": "6c367f73",
   "metadata": {
    "papermill": {
     "duration": 0.017053,
     "end_time": "2024-01-24T14:12:54.838028",
     "exception": false,
     "start_time": "2024-01-24T14:12:54.820975",
     "status": "completed"
    },
    "tags": []
   },
   "source": [
    "## Convert to 2d numpy array, normalize between 0 and 1, and plot"
   ]
  },
  {
   "cell_type": "code",
   "execution_count": 13,
   "id": "8a43b332",
   "metadata": {
    "ExecuteTime": {
     "end_time": "2024-01-24T13:18:46.393647255Z",
     "start_time": "2024-01-24T13:18:46.335795494Z"
    },
    "collapsed": false,
    "execution": {
     "iopub.execute_input": "2024-01-24T14:12:54.871714Z",
     "iopub.status.busy": "2024-01-24T14:12:54.871326Z",
     "iopub.status.idle": "2024-01-24T14:12:54.879653Z",
     "shell.execute_reply": "2024-01-24T14:12:54.878268Z"
    },
    "jupyter": {
     "outputs_hidden": false
    },
    "papermill": {
     "duration": 0.028021,
     "end_time": "2024-01-24T14:12:54.882201",
     "exception": false,
     "start_time": "2024-01-24T14:12:54.854180",
     "status": "completed"
    },
    "tags": []
   },
   "outputs": [
    {
     "name": "stdout",
     "output_type": "stream",
     "text": [
      "LL cols: 100\n",
      "LP cols: 100\n",
      "RL cols: 100\n",
      "RP cols: 100\n"
     ]
    }
   ],
   "source": [
    "# how many columns have 'LL', 'LR', etc. in them?\n",
    "print(f'LL cols: {len([col for col in spect1.columns if \"LL\" in col])}')\n",
    "print(f'LP cols: {len([col for col in spect1.columns if \"LP\" in col])}')\n",
    "print(f'RL cols: {len([col for col in spect1.columns if \"RL\" in col])}')\n",
    "print(f'RP cols: {len([col for col in spect1.columns if \"LP\" in col])}')"
   ]
  },
  {
   "cell_type": "markdown",
   "id": "7e392c92",
   "metadata": {
    "papermill": {
     "duration": 0.0163,
     "end_time": "2024-01-24T14:12:54.915798",
     "exception": false,
     "start_time": "2024-01-24T14:12:54.899498",
     "status": "completed"
    },
    "tags": []
   },
   "source": [
    "### Takeaways\n",
    "* Have 1 time column and 100 columns each for LL, LP, RL, RP\n",
    "* Try both training on single image and splitting into 4 separate images"
   ]
  },
  {
   "cell_type": "code",
   "execution_count": 14,
   "id": "287ff12f",
   "metadata": {
    "ExecuteTime": {
     "start_time": "2024-01-24T10:24:59.920289999Z"
    },
    "collapsed": false,
    "execution": {
     "iopub.execute_input": "2024-01-24T14:12:54.954553Z",
     "iopub.status.busy": "2024-01-24T14:12:54.953450Z",
     "iopub.status.idle": "2024-01-24T14:12:54.959200Z",
     "shell.execute_reply": "2024-01-24T14:12:54.958411Z"
    },
    "jupyter": {
     "outputs_hidden": false
    },
    "papermill": {
     "duration": 0.029384,
     "end_time": "2024-01-24T14:12:54.961689",
     "exception": false,
     "start_time": "2024-01-24T14:12:54.932305",
     "status": "completed"
    },
    "tags": []
   },
   "outputs": [],
   "source": [
    "# create a new subdirectory called /spectrograms if it doesn't exist\n",
    "if not os.path.exists('./spectrograms'):\n",
    "    os.mkdir('./spectrograms')"
   ]
  },
  {
   "cell_type": "code",
   "execution_count": 15,
   "id": "e68a49df",
   "metadata": {
    "ExecuteTime": {
     "end_time": "2024-01-24T13:22:31.141046657Z",
     "start_time": "2024-01-24T13:20:19.537948788Z"
    },
    "collapsed": false,
    "execution": {
     "iopub.execute_input": "2024-01-24T14:12:54.998734Z",
     "iopub.status.busy": "2024-01-24T14:12:54.998349Z",
     "iopub.status.idle": "2024-01-24T14:24:28.711969Z",
     "shell.execute_reply": "2024-01-24T14:24:28.710029Z"
    },
    "jupyter": {
     "outputs_hidden": false
    },
    "papermill": {
     "duration": 693.733738,
     "end_time": "2024-01-24T14:24:28.714687",
     "exception": false,
     "start_time": "2024-01-24T14:12:54.980949",
     "status": "completed"
    },
    "tags": []
   },
   "outputs": [
    {
     "name": "stderr",
     "output_type": "stream",
     "text": [
      "100%|██████████| 11138/11138 [11:33<00:00, 16.06it/s]\n"
     ]
    }
   ],
   "source": [
    "# loop throuth first 12 spectrograms and plot\n",
    "# fig,ax = plt.subplots(3,4,figsize=(15,10))\n",
    "# ax = ax.flatten()\n",
    "for i in tqdm(range(len(spectrograms))):\n",
    "    df = pd.read_parquet(spectrograms[i])\n",
    "    # get the name of the spectrogram file\n",
    "    spect_id = int(spectrograms[i].split('/')[-1].split('.')[0])\n",
    "    consensus = train_unique[train_unique.spectrogram_id == spect_id].expert_consensus.values[0]\n",
    "    # normalize the spectrogram between 0 and 1\n",
    "    spectrogram = df.values / df.values.max()\n",
    "    # swap x and y axis\n",
    "    spectrogram = spectrogram.T\n",
    "    # replace 0 values with 10e-9\n",
    "    spectrogram = np.where(spectrogram == 0, 10e-9,spectrogram)\n",
    "    # take the log of the spectrogram\n",
    "    spectrogram = np.log(spectrogram)\n",
    "    # make minimum value 0\n",
    "    spectrogram = spectrogram + np.abs(np.min(spectrogram))\n",
    "    # scale the spectrogram to have a max of 255\n",
    "    spectrogram = 255 * (spectrogram / spectrogram.max())\n",
    "    # convert to uint8\n",
    "    spectrogram = spectrogram.astype(np.uint8)\n",
    "    # save the spectrogram as a png file in the folder /spectrograms\n",
    "    #plt.imsave(f'spectrograms/{spect_id}.png',spectrogram,cmap='viridis')\n",
    "    cv2.imwrite(f'spectrograms/{spect_id}.png',spectrogram)\n",
    "#     ax[i].imshow(spectrogram,cmap='viridis')\n",
    "#     ax[i].set_title(f\"{spectrograms[i].split('/')[-1].split('.')[0]}, {consensus}\")\n",
    "# plt.tight_layout();\n"
   ]
  },
  {
   "cell_type": "code",
   "execution_count": 16,
   "id": "45107603",
   "metadata": {
    "ExecuteTime": {
     "end_time": "2024-01-24T13:28:10.654239289Z",
     "start_time": "2024-01-24T13:28:10.625779337Z"
    },
    "collapsed": false,
    "execution": {
     "iopub.execute_input": "2024-01-24T14:24:29.803468Z",
     "iopub.status.busy": "2024-01-24T14:24:29.802073Z",
     "iopub.status.idle": "2024-01-24T14:24:29.809905Z",
     "shell.execute_reply": "2024-01-24T14:24:29.808585Z"
    },
    "jupyter": {
     "outputs_hidden": false
    },
    "papermill": {
     "duration": 0.549655,
     "end_time": "2024-01-24T14:24:29.812705",
     "exception": false,
     "start_time": "2024-01-24T14:24:29.263050",
     "status": "completed"
    },
    "tags": []
   },
   "outputs": [],
   "source": [
    "# define process\n",
    "\n",
    "# print(f'max, min of df: {df.values.max()}, {df.values.min()}')\n",
    "# # normalize the values of df between 0 and 1\n",
    "# spectrogram = df.values / df.values.max()\n",
    "# print(f'max, min of df: {spectrogram.max()}, {spectrogram.min()}')\n",
    "# \n",
    "# spectrogram = spectrogram.T\n",
    "# # replace 0 values with 10e-9\n",
    "# spectrogram = np.where(spectrogram == 0, 10e-9,spectrogram)\n",
    "# print(f'max, min of df: {spectrogram.max()}, {spectrogram.min()}')\n",
    "# \n",
    "# # scale the spectrogram to have a max of 255\n",
    "# #spectrogram = 255 * (spectrogram / spectrogram.max())\n",
    "# \n",
    "# # take the log of the spectrogram\n",
    "# spectrogram = np.log(spectrogram)\n",
    "# print(f'max, min of df: {spectrogram.max()}, {spectrogram.min()}')\n",
    "# \n",
    "# spectrogram = spectrogram + np.abs(np.min(spectrogram))\n",
    "# spectrogram = 255 * (spectrogram / spectrogram.max())\n",
    "# # convert to uint8\n",
    "# spectrogram = spectrogram.astype(np.uint8)\n",
    "# \n",
    "# print(f'max, min of df: {spectrogram.max()}, {spectrogram.min()}')\n",
    "# \n",
    "# plt.imshow(spectrogram,cmap='viridis')"
   ]
  },
  {
   "cell_type": "code",
   "execution_count": 17,
   "id": "d485adf9",
   "metadata": {
    "ExecuteTime": {
     "end_time": "2024-01-24T13:28:10.692774413Z",
     "start_time": "2024-01-24T13:28:10.627052727Z"
    },
    "collapsed": false,
    "execution": {
     "iopub.execute_input": "2024-01-24T14:24:30.890247Z",
     "iopub.status.busy": "2024-01-24T14:24:30.889788Z",
     "iopub.status.idle": "2024-01-24T14:24:30.895530Z",
     "shell.execute_reply": "2024-01-24T14:24:30.894033Z"
    },
    "jupyter": {
     "outputs_hidden": false
    },
    "papermill": {
     "duration": 0.545279,
     "end_time": "2024-01-24T14:24:30.898369",
     "exception": false,
     "start_time": "2024-01-24T14:24:30.353090",
     "status": "completed"
    },
    "tags": []
   },
   "outputs": [],
   "source": [
    "# print(f'min, max = {spectrogram.min()}, {spectrogram.max():.3f}')\n",
    "# \n",
    "# #find the index of the max value in the spectrogram\n",
    "# max_index = np.where(spectrogram == spectrogram.max())\n",
    "# print(f'index of max value: {max_index}')\n",
    "# \n",
    "# # are there any nan values?\n",
    "# print(f'number of nan values: {np.isnan(spectrogram).sum()}')\n",
    "# \n",
    "# # are there any inf values?\n",
    "# print(f'number of inf values: {np.isinf(spectrogram).sum()}')\n"
   ]
  },
  {
   "cell_type": "markdown",
   "id": "303616bf",
   "metadata": {
    "papermill": {
     "duration": 0.580023,
     "end_time": "2024-01-24T14:24:32.092073",
     "exception": false,
     "start_time": "2024-01-24T14:24:31.512050",
     "status": "completed"
    },
    "tags": []
   },
   "source": [
    "## Solved: Problem is we have some outliers (speckle) that are throwing off the color scale\n",
    "* Option 1: Remove outliers with stdev\n",
    "* Option 2: Image filtering to remove \"salt and pepper\" noise\n",
    "* Option 3: Use log scale (can be used additionaly with options 1 or 2)\n",
    "\n",
    "Actually, it was zero values turning into -inf when taking log.  \n",
    "* Replaced 0 with 10e-9 and it works\n",
    "* Still taking logs before saving images"
   ]
  },
  {
   "cell_type": "markdown",
   "id": "dcdb0979",
   "metadata": {
    "papermill": {
     "duration": 0.548632,
     "end_time": "2024-01-24T14:24:33.214608",
     "exception": false,
     "start_time": "2024-01-24T14:24:32.665976",
     "status": "completed"
    },
    "tags": []
   },
   "source": [
    "## These are different lenghts, so need to split or crop or something\n",
    "* Look at distribution of lengths"
   ]
  },
  {
   "cell_type": "code",
   "execution_count": 18,
   "id": "2e7f1f7e",
   "metadata": {
    "ExecuteTime": {
     "end_time": "2024-01-24T13:28:10.625431344Z",
     "start_time": "2024-01-24T13:26:17.470680886Z"
    },
    "collapsed": false,
    "execution": {
     "iopub.execute_input": "2024-01-24T14:24:34.372258Z",
     "iopub.status.busy": "2024-01-24T14:24:34.371768Z",
     "iopub.status.idle": "2024-01-24T14:31:58.853458Z",
     "shell.execute_reply": "2024-01-24T14:31:58.849905Z"
    },
    "jupyter": {
     "outputs_hidden": false
    },
    "papermill": {
     "duration": 445.65559,
     "end_time": "2024-01-24T14:31:59.407654",
     "exception": false,
     "start_time": "2024-01-24T14:24:33.752064",
     "status": "completed"
    },
    "tags": []
   },
   "outputs": [
    {
     "name": "stdout",
     "output_type": "stream",
     "text": [
      "CPU times: user 8min 18s, sys: 27.5 s, total: 8min 46s\n",
      "Wall time: 7min 24s\n"
     ]
    }
   ],
   "source": [
    "%%time\n",
    "# loop through all spectrograms and get length\n",
    "lengths = []\n",
    "for i in range(len(spectrograms)):\n",
    "    df = pd.read_parquet(spectrograms[i])\n",
    "    fname = spectrograms[i].split('/')[-1].split('.')[0]\n",
    "    lengths.append([fname,df.shape[0]])\n",
    "        \n"
   ]
  },
  {
   "cell_type": "code",
   "execution_count": 19,
   "id": "eb7ebc1b",
   "metadata": {
    "ExecuteTime": {
     "end_time": "2024-01-24T12:45:54.879425075Z",
     "start_time": "2024-01-24T12:45:54.777106410Z"
    },
    "collapsed": false,
    "execution": {
     "iopub.execute_input": "2024-01-24T14:32:00.499316Z",
     "iopub.status.busy": "2024-01-24T14:32:00.498625Z",
     "iopub.status.idle": "2024-01-24T14:32:00.507124Z",
     "shell.execute_reply": "2024-01-24T14:32:00.505967Z"
    },
    "jupyter": {
     "outputs_hidden": false
    },
    "papermill": {
     "duration": 0.553838,
     "end_time": "2024-01-24T14:32:00.509625",
     "exception": false,
     "start_time": "2024-01-24T14:31:59.955787",
     "status": "completed"
    },
    "tags": []
   },
   "outputs": [
    {
     "data": {
      "text/plain": [
       "[['32728416', 408],\n",
       " ['606473112', 300],\n",
       " ['541008286', 340],\n",
       " ['1662066256', 300],\n",
       " ['137257750', 348]]"
      ]
     },
     "execution_count": 19,
     "metadata": {},
     "output_type": "execute_result"
    }
   ],
   "source": [
    "lengths[0:5]"
   ]
  },
  {
   "cell_type": "code",
   "execution_count": 20,
   "id": "e62432b3",
   "metadata": {
    "ExecuteTime": {
     "end_time": "2024-01-24T12:45:57.478278675Z",
     "start_time": "2024-01-24T12:45:57.283000092Z"
    },
    "collapsed": false,
    "execution": {
     "iopub.execute_input": "2024-01-24T14:32:01.681159Z",
     "iopub.status.busy": "2024-01-24T14:32:01.680744Z",
     "iopub.status.idle": "2024-01-24T14:32:02.697018Z",
     "shell.execute_reply": "2024-01-24T14:32:02.695891Z"
    },
    "jupyter": {
     "outputs_hidden": false
    },
    "papermill": {
     "duration": 1.643715,
     "end_time": "2024-01-24T14:32:02.699906",
     "exception": false,
     "start_time": "2024-01-24T14:32:01.056191",
     "status": "completed"
    },
    "tags": []
   },
   "outputs": [
    {
     "data": {
      "image/png": "[encoded data removed]",
      "text/plain": [
       "<Figure size 1000x400 with 1 Axes>"
      ]
     },
     "metadata": {},
     "output_type": "display_data"
    }
   ],
   "source": [
    "# make a histogram of the lengths\n",
    "plt.figure(figsize=(10,4))\n",
    "lengths = [length[1] for length in lengths]\n",
    "plt.hist(lengths,bins=20)\n",
    "plt.title('Distribution of Spectrogram Lengths');\n",
    "\n"
   ]
  },
  {
   "cell_type": "markdown",
   "id": "20b9fd5f",
   "metadata": {
    "papermill": {
     "duration": 0.56068,
     "end_time": "2024-01-24T14:32:03.803306",
     "exception": false,
     "start_time": "2024-01-24T14:32:03.242626",
     "status": "completed"
    },
    "tags": []
   },
   "source": [
    "## In training, split based on sub_id"
   ]
  },
  {
   "cell_type": "code",
   "execution_count": null,
   "id": "fd3f083d",
   "metadata": {
    "collapsed": false,
    "jupyter": {
     "outputs_hidden": false
    },
    "papermill": {
     "duration": 0.550448,
     "end_time": "2024-01-24T14:32:04.897862",
     "exception": false,
     "start_time": "2024-01-24T14:32:04.347414",
     "status": "completed"
    },
    "tags": []
   },
   "outputs": [],
   "source": []
  }
 ],
 "metadata": {
  "kaggle": {
   "accelerator": "none",
   "dataSources": [
    {
     "databundleVersionId": 7469972,
     "sourceId": 59093,
     "sourceType": "competition"
    }
   ],
   "dockerImageVersionId": 30635,
   "isGpuEnabled": false,
   "isInternetEnabled": true,
   "language": "python",
   "sourceType": "notebook"
  },
  "kernelspec": {
   "display_name": "Python 3",
   "language": "python",
   "name": "python3"
  },
  "language_info": {
   "codemirror_mode": {
    "name": "ipython",
    "version": 3
   },
   "file_extension": ".py",
   "mimetype": "text/x-python",
   "name": "python",
   "nbconvert_exporter": "python",
   "pygments_lexer": "ipython3",
   "version": "3.10.12"
  },
  "papermill": {
   "default_parameters": {},
   "duration": 1177.474997,
   "end_time": "2024-01-24T14:32:06.351392",
   "environment_variables": {},
   "exception": null,
   "input_path": "__notebook__.ipynb",
   "output_path": "__notebook__.ipynb",
   "parameters": {},
   "start_time": "2024-01-24T14:12:28.876395",
   "version": "2.4.0"
  }
 },
 "nbformat": 4,
 "nbformat_minor": 5
}
