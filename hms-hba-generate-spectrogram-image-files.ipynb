{
 "cells": [
  {
   "cell_type": "markdown",
   "id": "cdc683e4",
   "metadata": {
    "papermill": {
     "duration": 0.00971,
     "end_time": "2024-01-25T00:58:36.596614",
     "exception": false,
     "start_time": "2024-01-25T00:58:36.586904",
     "status": "completed"
    },
    "tags": []
   },
   "source": [
    "# Generate HMS-HBA Spectrogram files\n",
    "* Process and save spectrograms as images for training\n"
   ]
  },
  {
   "cell_type": "markdown",
   "id": "de238b6c",
   "metadata": {
    "papermill": {
     "duration": 0.008738,
     "end_time": "2024-01-25T00:58:36.614255",
     "exception": false,
     "start_time": "2024-01-25T00:58:36.605517",
     "status": "completed"
    },
    "tags": []
   },
   "source": [
    "# Install libraries"
   ]
  },
  {
   "cell_type": "code",
   "execution_count": 1,
   "id": "ae8a32ae",
   "metadata": {
    "execution": {
     "iopub.execute_input": "2024-01-25T00:58:36.634552Z",
     "iopub.status.busy": "2024-01-25T00:58:36.633785Z",
     "iopub.status.idle": "2024-01-25T00:58:53.707959Z",
     "shell.execute_reply": "2024-01-25T00:58:53.706405Z"
    },
    "papermill": {
     "duration": 17.08854,
     "end_time": "2024-01-25T00:58:53.711447",
     "exception": false,
     "start_time": "2024-01-25T00:58:36.622907",
     "status": "completed"
    },
    "tags": []
   },
   "outputs": [
    {
     "name": "stdout",
     "output_type": "stream",
     "text": [
      "Collecting scienceplots\r\n",
      "  Obtaining dependency information for scienceplots from https://files.pythonhosted.org/packages/51/2a/debffdd7061c7a65ab46c51e671b895dc8231c4a14950849c40699eb2070/SciencePlots-2.1.1-py3-none-any.whl.metadata\r\n",
      "  Downloading SciencePlots-2.1.1-py3-none-any.whl.metadata (11 kB)\r\n",
      "Requirement already satisfied: matplotlib in /opt/conda/lib/python3.10/site-packages (from scienceplots) (3.7.4)\r\n",
      "Requirement already satisfied: contourpy>=1.0.1 in /opt/conda/lib/python3.10/site-packages (from matplotlib->scienceplots) (1.1.0)\r\n",
      "Requirement already satisfied: cycler>=0.10 in /opt/conda/lib/python3.10/site-packages (from matplotlib->scienceplots) (0.11.0)\r\n",
      "Requirement already satisfied: fonttools>=4.22.0 in /opt/conda/lib/python3.10/site-packages (from matplotlib->scienceplots) (4.42.1)\r\n",
      "Requirement already satisfied: kiwisolver>=1.0.1 in /opt/conda/lib/python3.10/site-packages (from matplotlib->scienceplots) (1.4.4)\r\n",
      "Requirement already satisfied: numpy<2,>=1.20 in /opt/conda/lib/python3.10/site-packages (from matplotlib->scienceplots) (1.24.3)\r\n",
      "Requirement already satisfied: packaging>=20.0 in /opt/conda/lib/python3.10/site-packages (from matplotlib->scienceplots) (21.3)\r\n",
      "Requirement already satisfied: pillow>=6.2.0 in /opt/conda/lib/python3.10/site-packages (from matplotlib->scienceplots) (9.5.0)\r\n",
      "Requirement already satisfied: pyparsing>=2.3.1 in /opt/conda/lib/python3.10/site-packages (from matplotlib->scienceplots) (3.0.9)\r\n",
      "Requirement already satisfied: python-dateutil>=2.7 in /opt/conda/lib/python3.10/site-packages (from matplotlib->scienceplots) (2.8.2)\r\n",
      "Requirement already satisfied: six>=1.5 in /opt/conda/lib/python3.10/site-packages (from python-dateutil>=2.7->matplotlib->scienceplots) (1.16.0)\r\n",
      "Downloading SciencePlots-2.1.1-py3-none-any.whl (16 kB)\r\n",
      "Installing collected packages: scienceplots\r\n",
      "Successfully installed scienceplots-2.1.1\r\n"
     ]
    }
   ],
   "source": [
    "!pip install scienceplots"
   ]
  },
  {
   "cell_type": "markdown",
   "id": "04e4dcdb",
   "metadata": {
    "papermill": {
     "duration": 0.008664,
     "end_time": "2024-01-25T00:58:53.729500",
     "exception": false,
     "start_time": "2024-01-25T00:58:53.720836",
     "status": "completed"
    },
    "tags": []
   },
   "source": [
    "# Import libraries"
   ]
  },
  {
   "cell_type": "code",
   "execution_count": 2,
   "id": "3f0116fb",
   "metadata": {
    "ExecuteTime": {
     "end_time": "2024-01-24T13:20:14.317992219Z",
     "start_time": "2024-01-24T13:20:14.206031655Z"
    },
    "collapsed": false,
    "execution": {
     "iopub.execute_input": "2024-01-25T00:58:53.750204Z",
     "iopub.status.busy": "2024-01-25T00:58:53.749683Z",
     "iopub.status.idle": "2024-01-25T00:58:56.148502Z",
     "shell.execute_reply": "2024-01-25T00:58:56.146941Z"
    },
    "jupyter": {
     "outputs_hidden": false
    },
    "papermill": {
     "duration": 2.413472,
     "end_time": "2024-01-25T00:58:56.152172",
     "exception": false,
     "start_time": "2024-01-25T00:58:53.738700",
     "status": "completed"
    },
    "tags": []
   },
   "outputs": [],
   "source": [
    "import os\n",
    "import cv2\n",
    "import glob\n",
    "import numpy as np\n",
    "import pandas as pd\n",
    "pd.set_option('display.max_columns', 50)\n",
    "\n",
    "import matplotlib.pyplot as plt\n",
    "import seaborn as sns\n",
    "sns.set_style('whitegrid')\n",
    "import scienceplots\n",
    "plt.style.use(['science','no-latex'])\n",
    "\n",
    "from tqdm import tqdm\n",
    "import warnings\n",
    "warnings.filterwarnings(\"ignore\")"
   ]
  },
  {
   "cell_type": "markdown",
   "id": "25aedca8",
   "metadata": {
    "papermill": {
     "duration": 0.009635,
     "end_time": "2024-01-25T00:58:56.171946",
     "exception": false,
     "start_time": "2024-01-25T00:58:56.162311",
     "status": "completed"
    },
    "tags": []
   },
   "source": [
    "# Load data"
   ]
  },
  {
   "cell_type": "code",
   "execution_count": 3,
   "id": "f8212955",
   "metadata": {
    "ExecuteTime": {
     "end_time": "2024-01-24T13:17:49.177909645Z",
     "start_time": "2024-01-24T13:17:49.127760371Z"
    },
    "collapsed": false,
    "execution": {
     "iopub.execute_input": "2024-01-25T00:58:56.193567Z",
     "iopub.status.busy": "2024-01-25T00:58:56.192962Z",
     "iopub.status.idle": "2024-01-25T00:58:56.521128Z",
     "shell.execute_reply": "2024-01-25T00:58:56.519592Z"
    },
    "jupyter": {
     "outputs_hidden": false
    },
    "papermill": {
     "duration": 0.342847,
     "end_time": "2024-01-25T00:58:56.524737",
     "exception": false,
     "start_time": "2024-01-25T00:58:56.181890",
     "status": "completed"
    },
    "tags": []
   },
   "outputs": [],
   "source": [
    "kaggle = True\n",
    "root_dir = '.'\n",
    "if kaggle:\n",
    "    root_dir = '/kaggle/input/hms-harmful-brain-activity-classification'\n",
    "\n",
    "train = pd.read_csv(root_dir + '/train.csv')\n",
    "\n",
    "# set spect path variable\n",
    "spect_dir = root_dir + '/train_spectrograms/'\n"
   ]
  },
  {
   "cell_type": "markdown",
   "id": "c9833fb9",
   "metadata": {
    "papermill": {
     "duration": 0.009501,
     "end_time": "2024-01-25T00:58:56.543901",
     "exception": false,
     "start_time": "2024-01-25T00:58:56.534400",
     "status": "completed"
    },
    "tags": []
   },
   "source": [
    "# Top level Stats"
   ]
  },
  {
   "cell_type": "code",
   "execution_count": 4,
   "id": "822ffadf",
   "metadata": {
    "ExecuteTime": {
     "end_time": "2024-01-24T13:17:50.143505150Z",
     "start_time": "2024-01-24T13:17:50.132236203Z"
    },
    "collapsed": false,
    "execution": {
     "iopub.execute_input": "2024-01-25T00:58:56.566076Z",
     "iopub.status.busy": "2024-01-25T00:58:56.565654Z",
     "iopub.status.idle": "2024-01-25T00:58:56.599215Z",
     "shell.execute_reply": "2024-01-25T00:58:56.598136Z"
    },
    "jupyter": {
     "outputs_hidden": false
    },
    "papermill": {
     "duration": 0.048743,
     "end_time": "2024-01-25T00:58:56.602222",
     "exception": false,
     "start_time": "2024-01-25T00:58:56.553479",
     "status": "completed"
    },
    "tags": []
   },
   "outputs": [
    {
     "name": "stdout",
     "output_type": "stream",
     "text": [
      "Training Data Shape: (106800, 15)\n"
     ]
    },
    {
     "data": {
      "text/html": [
       "<div>\n",
       "<style scoped>\n",
       "    .dataframe tbody tr th:only-of-type {\n",
       "        vertical-align: middle;\n",
       "    }\n",
       "\n",
       "    .dataframe tbody tr th {\n",
       "        vertical-align: top;\n",
       "    }\n",
       "\n",
       "    .dataframe thead th {\n",
       "        text-align: right;\n",
       "    }\n",
       "</style>\n",
       "<table border=\"1\" class=\"dataframe\">\n",
       "  <thead>\n",
       "    <tr style=\"text-align: right;\">\n",
       "      <th></th>\n",
       "      <th>eeg_id</th>\n",
       "      <th>eeg_sub_id</th>\n",
       "      <th>eeg_label_offset_seconds</th>\n",
       "      <th>spectrogram_id</th>\n",
       "      <th>spectrogram_sub_id</th>\n",
       "      <th>spectrogram_label_offset_seconds</th>\n",
       "      <th>label_id</th>\n",
       "      <th>patient_id</th>\n",
       "      <th>expert_consensus</th>\n",
       "      <th>seizure_vote</th>\n",
       "      <th>lpd_vote</th>\n",
       "      <th>gpd_vote</th>\n",
       "      <th>lrda_vote</th>\n",
       "      <th>grda_vote</th>\n",
       "      <th>other_vote</th>\n",
       "    </tr>\n",
       "  </thead>\n",
       "  <tbody>\n",
       "    <tr>\n",
       "      <th>0</th>\n",
       "      <td>1628180742</td>\n",
       "      <td>0</td>\n",
       "      <td>0.0</td>\n",
       "      <td>353733</td>\n",
       "      <td>0</td>\n",
       "      <td>0.0</td>\n",
       "      <td>127492639</td>\n",
       "      <td>42516</td>\n",
       "      <td>Seizure</td>\n",
       "      <td>3</td>\n",
       "      <td>0</td>\n",
       "      <td>0</td>\n",
       "      <td>0</td>\n",
       "      <td>0</td>\n",
       "      <td>0</td>\n",
       "    </tr>\n",
       "    <tr>\n",
       "      <th>1</th>\n",
       "      <td>1628180742</td>\n",
       "      <td>1</td>\n",
       "      <td>6.0</td>\n",
       "      <td>353733</td>\n",
       "      <td>1</td>\n",
       "      <td>6.0</td>\n",
       "      <td>3887563113</td>\n",
       "      <td>42516</td>\n",
       "      <td>Seizure</td>\n",
       "      <td>3</td>\n",
       "      <td>0</td>\n",
       "      <td>0</td>\n",
       "      <td>0</td>\n",
       "      <td>0</td>\n",
       "      <td>0</td>\n",
       "    </tr>\n",
       "    <tr>\n",
       "      <th>2</th>\n",
       "      <td>1628180742</td>\n",
       "      <td>2</td>\n",
       "      <td>8.0</td>\n",
       "      <td>353733</td>\n",
       "      <td>2</td>\n",
       "      <td>8.0</td>\n",
       "      <td>1142670488</td>\n",
       "      <td>42516</td>\n",
       "      <td>Seizure</td>\n",
       "      <td>3</td>\n",
       "      <td>0</td>\n",
       "      <td>0</td>\n",
       "      <td>0</td>\n",
       "      <td>0</td>\n",
       "      <td>0</td>\n",
       "    </tr>\n",
       "    <tr>\n",
       "      <th>3</th>\n",
       "      <td>1628180742</td>\n",
       "      <td>3</td>\n",
       "      <td>18.0</td>\n",
       "      <td>353733</td>\n",
       "      <td>3</td>\n",
       "      <td>18.0</td>\n",
       "      <td>2718991173</td>\n",
       "      <td>42516</td>\n",
       "      <td>Seizure</td>\n",
       "      <td>3</td>\n",
       "      <td>0</td>\n",
       "      <td>0</td>\n",
       "      <td>0</td>\n",
       "      <td>0</td>\n",
       "      <td>0</td>\n",
       "    </tr>\n",
       "    <tr>\n",
       "      <th>4</th>\n",
       "      <td>1628180742</td>\n",
       "      <td>4</td>\n",
       "      <td>24.0</td>\n",
       "      <td>353733</td>\n",
       "      <td>4</td>\n",
       "      <td>24.0</td>\n",
       "      <td>3080632009</td>\n",
       "      <td>42516</td>\n",
       "      <td>Seizure</td>\n",
       "      <td>3</td>\n",
       "      <td>0</td>\n",
       "      <td>0</td>\n",
       "      <td>0</td>\n",
       "      <td>0</td>\n",
       "      <td>0</td>\n",
       "    </tr>\n",
       "  </tbody>\n",
       "</table>\n",
       "</div>"
      ],
      "text/plain": [
       "       eeg_id  eeg_sub_id  eeg_label_offset_seconds  spectrogram_id  \\\n",
       "0  1628180742           0                       0.0          353733   \n",
       "1  1628180742           1                       6.0          353733   \n",
       "2  1628180742           2                       8.0          353733   \n",
       "3  1628180742           3                      18.0          353733   \n",
       "4  1628180742           4                      24.0          353733   \n",
       "\n",
       "   spectrogram_sub_id  spectrogram_label_offset_seconds    label_id  \\\n",
       "0                   0                               0.0   127492639   \n",
       "1                   1                               6.0  3887563113   \n",
       "2                   2                               8.0  1142670488   \n",
       "3                   3                              18.0  2718991173   \n",
       "4                   4                              24.0  3080632009   \n",
       "\n",
       "   patient_id expert_consensus  seizure_vote  lpd_vote  gpd_vote  lrda_vote  \\\n",
       "0       42516          Seizure             3         0         0          0   \n",
       "1       42516          Seizure             3         0         0          0   \n",
       "2       42516          Seizure             3         0         0          0   \n",
       "3       42516          Seizure             3         0         0          0   \n",
       "4       42516          Seizure             3         0         0          0   \n",
       "\n",
       "   grda_vote  other_vote  \n",
       "0          0           0  \n",
       "1          0           0  \n",
       "2          0           0  \n",
       "3          0           0  \n",
       "4          0           0  "
      ]
     },
     "metadata": {},
     "output_type": "display_data"
    }
   ],
   "source": [
    "# print all sets - assuming train,test, ss\n",
    "print(f'Training Data Shape: {train.shape}')\n",
    "display(train.head())\n"
   ]
  },
  {
   "cell_type": "markdown",
   "id": "49693b9a",
   "metadata": {
    "papermill": {
     "duration": 0.009862,
     "end_time": "2024-01-25T00:58:56.622322",
     "exception": false,
     "start_time": "2024-01-25T00:58:56.612460",
     "status": "completed"
    },
    "tags": []
   },
   "source": [
    "## Add path to the spectrogram"
   ]
  },
  {
   "cell_type": "code",
   "execution_count": 5,
   "id": "737905b3",
   "metadata": {
    "execution": {
     "iopub.execute_input": "2024-01-25T00:58:56.644152Z",
     "iopub.status.busy": "2024-01-25T00:58:56.643714Z",
     "iopub.status.idle": "2024-01-25T00:58:56.755450Z",
     "shell.execute_reply": "2024-01-25T00:58:56.754378Z"
    },
    "papermill": {
     "duration": 0.126267,
     "end_time": "2024-01-25T00:58:56.758514",
     "exception": false,
     "start_time": "2024-01-25T00:58:56.632247",
     "status": "completed"
    },
    "tags": []
   },
   "outputs": [
    {
     "data": {
      "text/html": [
       "<div>\n",
       "<style scoped>\n",
       "    .dataframe tbody tr th:only-of-type {\n",
       "        vertical-align: middle;\n",
       "    }\n",
       "\n",
       "    .dataframe tbody tr th {\n",
       "        vertical-align: top;\n",
       "    }\n",
       "\n",
       "    .dataframe thead th {\n",
       "        text-align: right;\n",
       "    }\n",
       "</style>\n",
       "<table border=\"1\" class=\"dataframe\">\n",
       "  <thead>\n",
       "    <tr style=\"text-align: right;\">\n",
       "      <th></th>\n",
       "      <th>eeg_id</th>\n",
       "      <th>eeg_sub_id</th>\n",
       "      <th>eeg_label_offset_seconds</th>\n",
       "      <th>spectrogram_id</th>\n",
       "      <th>spectrogram_sub_id</th>\n",
       "      <th>spectrogram_label_offset_seconds</th>\n",
       "      <th>label_id</th>\n",
       "      <th>patient_id</th>\n",
       "      <th>expert_consensus</th>\n",
       "      <th>seizure_vote</th>\n",
       "      <th>lpd_vote</th>\n",
       "      <th>gpd_vote</th>\n",
       "      <th>lrda_vote</th>\n",
       "      <th>grda_vote</th>\n",
       "      <th>other_vote</th>\n",
       "      <th>spect_path</th>\n",
       "    </tr>\n",
       "  </thead>\n",
       "  <tbody>\n",
       "    <tr>\n",
       "      <th>0</th>\n",
       "      <td>1628180742</td>\n",
       "      <td>0</td>\n",
       "      <td>0.0</td>\n",
       "      <td>353733</td>\n",
       "      <td>0</td>\n",
       "      <td>0.0</td>\n",
       "      <td>127492639</td>\n",
       "      <td>42516</td>\n",
       "      <td>Seizure</td>\n",
       "      <td>3</td>\n",
       "      <td>0</td>\n",
       "      <td>0</td>\n",
       "      <td>0</td>\n",
       "      <td>0</td>\n",
       "      <td>0</td>\n",
       "      <td>/kaggle/input/hms-harmful-brain-activity-class...</td>\n",
       "    </tr>\n",
       "    <tr>\n",
       "      <th>1</th>\n",
       "      <td>1628180742</td>\n",
       "      <td>1</td>\n",
       "      <td>6.0</td>\n",
       "      <td>353733</td>\n",
       "      <td>1</td>\n",
       "      <td>6.0</td>\n",
       "      <td>3887563113</td>\n",
       "      <td>42516</td>\n",
       "      <td>Seizure</td>\n",
       "      <td>3</td>\n",
       "      <td>0</td>\n",
       "      <td>0</td>\n",
       "      <td>0</td>\n",
       "      <td>0</td>\n",
       "      <td>0</td>\n",
       "      <td>/kaggle/input/hms-harmful-brain-activity-class...</td>\n",
       "    </tr>\n",
       "  </tbody>\n",
       "</table>\n",
       "</div>"
      ],
      "text/plain": [
       "       eeg_id  eeg_sub_id  eeg_label_offset_seconds  spectrogram_id  \\\n",
       "0  1628180742           0                       0.0          353733   \n",
       "1  1628180742           1                       6.0          353733   \n",
       "\n",
       "   spectrogram_sub_id  spectrogram_label_offset_seconds    label_id  \\\n",
       "0                   0                               0.0   127492639   \n",
       "1                   1                               6.0  3887563113   \n",
       "\n",
       "   patient_id expert_consensus  seizure_vote  lpd_vote  gpd_vote  lrda_vote  \\\n",
       "0       42516          Seizure             3         0         0          0   \n",
       "1       42516          Seizure             3         0         0          0   \n",
       "\n",
       "   grda_vote  other_vote                                         spect_path  \n",
       "0          0           0  /kaggle/input/hms-harmful-brain-activity-class...  \n",
       "1          0           0  /kaggle/input/hms-harmful-brain-activity-class...  "
      ]
     },
     "execution_count": 5,
     "metadata": {},
     "output_type": "execute_result"
    }
   ],
   "source": [
    "# add path to training data\n",
    "train['spect_path'] = train.spectrogram_id.apply(lambda x: f'{spect_dir}{int(x)}.parquet')\n",
    "train.head(2)"
   ]
  },
  {
   "cell_type": "code",
   "execution_count": 6,
   "id": "a3cc06f5",
   "metadata": {
    "execution": {
     "iopub.execute_input": "2024-01-25T00:58:56.780768Z",
     "iopub.status.busy": "2024-01-25T00:58:56.779190Z",
     "iopub.status.idle": "2024-01-25T00:58:56.788487Z",
     "shell.execute_reply": "2024-01-25T00:58:56.787133Z"
    },
    "papermill": {
     "duration": 0.023162,
     "end_time": "2024-01-25T00:58:56.791291",
     "exception": false,
     "start_time": "2024-01-25T00:58:56.768129",
     "status": "completed"
    },
    "tags": []
   },
   "outputs": [
    {
     "data": {
      "text/plain": [
       "'/kaggle/input/hms-harmful-brain-activity-classification/train_spectrograms/353733.parquet'"
      ]
     },
     "execution_count": 6,
     "metadata": {},
     "output_type": "execute_result"
    }
   ],
   "source": [
    "train.spect_path[0]"
   ]
  },
  {
   "cell_type": "markdown",
   "id": "7c73ec08",
   "metadata": {
    "papermill": {
     "duration": 0.009595,
     "end_time": "2024-01-25T00:58:56.810556",
     "exception": false,
     "start_time": "2024-01-25T00:58:56.800961",
     "status": "completed"
    },
    "tags": []
   },
   "source": [
    "## Target Variable"
   ]
  },
  {
   "cell_type": "code",
   "execution_count": 7,
   "id": "39efc234",
   "metadata": {
    "ExecuteTime": {
     "end_time": "2024-01-24T13:17:51.550616704Z",
     "start_time": "2024-01-24T13:17:51.520454630Z"
    },
    "collapsed": false,
    "execution": {
     "iopub.execute_input": "2024-01-25T00:58:56.832506Z",
     "iopub.status.busy": "2024-01-25T00:58:56.831994Z",
     "iopub.status.idle": "2024-01-25T00:58:56.839628Z",
     "shell.execute_reply": "2024-01-25T00:58:56.837933Z"
    },
    "jupyter": {
     "outputs_hidden": false
    },
    "papermill": {
     "duration": 0.02177,
     "end_time": "2024-01-25T00:58:56.842457",
     "exception": false,
     "start_time": "2024-01-25T00:58:56.820687",
     "status": "completed"
    },
    "tags": []
   },
   "outputs": [
    {
     "name": "stdout",
     "output_type": "stream",
     "text": [
      "['seizure_vote', 'lpd_vote', 'gpd_vote', 'lrda_vote', 'grda_vote', 'other_vote']\n"
     ]
    }
   ],
   "source": [
    "targets = [col for col in train.columns if '_vote' in col]\n",
    "print(targets)"
   ]
  },
  {
   "cell_type": "code",
   "execution_count": 8,
   "id": "4ada6c12",
   "metadata": {
    "ExecuteTime": {
     "end_time": "2024-01-24T13:18:10.862420497Z",
     "start_time": "2024-01-24T13:18:10.829312752Z"
    },
    "collapsed": false,
    "execution": {
     "iopub.execute_input": "2024-01-25T00:58:56.865494Z",
     "iopub.status.busy": "2024-01-25T00:58:56.864986Z",
     "iopub.status.idle": "2024-01-25T00:58:56.871679Z",
     "shell.execute_reply": "2024-01-25T00:58:56.870228Z"
    },
    "jupyter": {
     "outputs_hidden": false
    },
    "papermill": {
     "duration": 0.022174,
     "end_time": "2024-01-25T00:58:56.874660",
     "exception": false,
     "start_time": "2024-01-25T00:58:56.852486",
     "status": "completed"
    },
    "tags": []
   },
   "outputs": [],
   "source": [
    "# # use glob to make a list of files in the spectrogram directory and verify same number\n",
    "# spectrograms = glob.glob(train_spectrograms + '/*.parquet')\n",
    "# len(spectrograms)\n"
   ]
  },
  {
   "cell_type": "markdown",
   "id": "01b64f27",
   "metadata": {
    "papermill": {
     "duration": 0.009604,
     "end_time": "2024-01-25T00:58:56.894262",
     "exception": false,
     "start_time": "2024-01-25T00:58:56.884658",
     "status": "completed"
    },
    "tags": []
   },
   "source": [
    "# Open a spectrogram file\n",
    "* Look at format of spectrogram files\n"
   ]
  },
  {
   "cell_type": "code",
   "execution_count": 9,
   "id": "9ad87651",
   "metadata": {
    "ExecuteTime": {
     "end_time": "2024-01-24T13:18:43.784617109Z",
     "start_time": "2024-01-24T13:18:43.715665679Z"
    },
    "collapsed": false,
    "execution": {
     "iopub.execute_input": "2024-01-25T00:58:56.916692Z",
     "iopub.status.busy": "2024-01-25T00:58:56.916201Z",
     "iopub.status.idle": "2024-01-25T00:58:57.174587Z",
     "shell.execute_reply": "2024-01-25T00:58:57.173115Z"
    },
    "jupyter": {
     "outputs_hidden": false
    },
    "papermill": {
     "duration": 0.273194,
     "end_time": "2024-01-25T00:58:57.177367",
     "exception": false,
     "start_time": "2024-01-25T00:58:56.904173",
     "status": "completed"
    },
    "tags": []
   },
   "outputs": [
    {
     "name": "stdout",
     "output_type": "stream",
     "text": [
      "Spectrogram shape: (320, 401)\n"
     ]
    },
    {
     "data": {
      "text/html": [
       "<div>\n",
       "<style scoped>\n",
       "    .dataframe tbody tr th:only-of-type {\n",
       "        vertical-align: middle;\n",
       "    }\n",
       "\n",
       "    .dataframe tbody tr th {\n",
       "        vertical-align: top;\n",
       "    }\n",
       "\n",
       "    .dataframe thead th {\n",
       "        text-align: right;\n",
       "    }\n",
       "</style>\n",
       "<table border=\"1\" class=\"dataframe\">\n",
       "  <thead>\n",
       "    <tr style=\"text-align: right;\">\n",
       "      <th></th>\n",
       "      <th>time</th>\n",
       "      <th>LL_0.59</th>\n",
       "      <th>LL_0.78</th>\n",
       "      <th>LL_0.98</th>\n",
       "      <th>LL_1.17</th>\n",
       "      <th>LL_1.37</th>\n",
       "      <th>LL_1.56</th>\n",
       "      <th>LL_1.76</th>\n",
       "      <th>LL_1.95</th>\n",
       "      <th>LL_2.15</th>\n",
       "      <th>LL_2.34</th>\n",
       "      <th>LL_2.54</th>\n",
       "      <th>LL_2.73</th>\n",
       "      <th>LL_2.93</th>\n",
       "      <th>LL_3.13</th>\n",
       "      <th>LL_3.32</th>\n",
       "      <th>LL_3.52</th>\n",
       "      <th>LL_3.71</th>\n",
       "      <th>LL_3.91</th>\n",
       "      <th>LL_4.1</th>\n",
       "      <th>LL_4.3</th>\n",
       "      <th>LL_4.49</th>\n",
       "      <th>LL_4.69</th>\n",
       "      <th>LL_4.88</th>\n",
       "      <th>LL_5.08</th>\n",
       "      <th>...</th>\n",
       "      <th>RP_15.23</th>\n",
       "      <th>RP_15.43</th>\n",
       "      <th>RP_15.63</th>\n",
       "      <th>RP_15.82</th>\n",
       "      <th>RP_16.02</th>\n",
       "      <th>RP_16.21</th>\n",
       "      <th>RP_16.41</th>\n",
       "      <th>RP_16.6</th>\n",
       "      <th>RP_16.8</th>\n",
       "      <th>RP_16.99</th>\n",
       "      <th>RP_17.19</th>\n",
       "      <th>RP_17.38</th>\n",
       "      <th>RP_17.58</th>\n",
       "      <th>RP_17.77</th>\n",
       "      <th>RP_17.97</th>\n",
       "      <th>RP_18.16</th>\n",
       "      <th>RP_18.36</th>\n",
       "      <th>RP_18.55</th>\n",
       "      <th>RP_18.75</th>\n",
       "      <th>RP_18.95</th>\n",
       "      <th>RP_19.14</th>\n",
       "      <th>RP_19.34</th>\n",
       "      <th>RP_19.53</th>\n",
       "      <th>RP_19.73</th>\n",
       "      <th>RP_19.92</th>\n",
       "    </tr>\n",
       "  </thead>\n",
       "  <tbody>\n",
       "    <tr>\n",
       "      <th>0</th>\n",
       "      <td>1</td>\n",
       "      <td>4.26</td>\n",
       "      <td>10.98</td>\n",
       "      <td>9.05</td>\n",
       "      <td>13.65</td>\n",
       "      <td>11.49</td>\n",
       "      <td>8.930000</td>\n",
       "      <td>18.840000</td>\n",
       "      <td>19.26</td>\n",
       "      <td>19.240000</td>\n",
       "      <td>19.049999</td>\n",
       "      <td>8.82</td>\n",
       "      <td>5.40</td>\n",
       "      <td>6.47</td>\n",
       "      <td>6.08</td>\n",
       "      <td>3.94</td>\n",
       "      <td>7.67</td>\n",
       "      <td>4.23</td>\n",
       "      <td>5.86</td>\n",
       "      <td>5.23</td>\n",
       "      <td>3.69</td>\n",
       "      <td>2.46</td>\n",
       "      <td>2.32</td>\n",
       "      <td>2.57</td>\n",
       "      <td>3.32</td>\n",
       "      <td>...</td>\n",
       "      <td>0.16</td>\n",
       "      <td>0.17</td>\n",
       "      <td>0.06</td>\n",
       "      <td>0.08</td>\n",
       "      <td>0.42</td>\n",
       "      <td>0.60</td>\n",
       "      <td>0.95</td>\n",
       "      <td>1.07</td>\n",
       "      <td>1.09</td>\n",
       "      <td>1.13</td>\n",
       "      <td>0.46</td>\n",
       "      <td>0.54</td>\n",
       "      <td>0.43</td>\n",
       "      <td>0.32</td>\n",
       "      <td>0.39</td>\n",
       "      <td>0.31</td>\n",
       "      <td>0.17</td>\n",
       "      <td>0.28</td>\n",
       "      <td>0.19</td>\n",
       "      <td>0.24</td>\n",
       "      <td>0.27</td>\n",
       "      <td>0.29</td>\n",
       "      <td>0.16</td>\n",
       "      <td>0.22</td>\n",
       "      <td>0.19</td>\n",
       "    </tr>\n",
       "    <tr>\n",
       "      <th>1</th>\n",
       "      <td>3</td>\n",
       "      <td>2.65</td>\n",
       "      <td>3.97</td>\n",
       "      <td>12.18</td>\n",
       "      <td>13.26</td>\n",
       "      <td>14.21</td>\n",
       "      <td>13.230000</td>\n",
       "      <td>9.650000</td>\n",
       "      <td>8.11</td>\n",
       "      <td>11.280000</td>\n",
       "      <td>8.460000</td>\n",
       "      <td>5.48</td>\n",
       "      <td>4.17</td>\n",
       "      <td>5.55</td>\n",
       "      <td>3.96</td>\n",
       "      <td>4.71</td>\n",
       "      <td>5.09</td>\n",
       "      <td>3.99</td>\n",
       "      <td>3.60</td>\n",
       "      <td>3.70</td>\n",
       "      <td>1.90</td>\n",
       "      <td>1.88</td>\n",
       "      <td>2.17</td>\n",
       "      <td>1.91</td>\n",
       "      <td>2.50</td>\n",
       "      <td>...</td>\n",
       "      <td>0.17</td>\n",
       "      <td>0.25</td>\n",
       "      <td>0.31</td>\n",
       "      <td>0.61</td>\n",
       "      <td>0.86</td>\n",
       "      <td>1.03</td>\n",
       "      <td>1.28</td>\n",
       "      <td>1.11</td>\n",
       "      <td>0.87</td>\n",
       "      <td>0.66</td>\n",
       "      <td>0.59</td>\n",
       "      <td>0.32</td>\n",
       "      <td>0.27</td>\n",
       "      <td>0.22</td>\n",
       "      <td>0.18</td>\n",
       "      <td>0.15</td>\n",
       "      <td>0.13</td>\n",
       "      <td>0.14</td>\n",
       "      <td>0.24</td>\n",
       "      <td>0.24</td>\n",
       "      <td>0.36</td>\n",
       "      <td>0.35</td>\n",
       "      <td>0.31</td>\n",
       "      <td>0.36</td>\n",
       "      <td>0.40</td>\n",
       "    </tr>\n",
       "    <tr>\n",
       "      <th>2</th>\n",
       "      <td>5</td>\n",
       "      <td>4.18</td>\n",
       "      <td>4.53</td>\n",
       "      <td>8.77</td>\n",
       "      <td>14.26</td>\n",
       "      <td>13.36</td>\n",
       "      <td>16.559999</td>\n",
       "      <td>19.219999</td>\n",
       "      <td>17.51</td>\n",
       "      <td>22.650000</td>\n",
       "      <td>21.719999</td>\n",
       "      <td>17.75</td>\n",
       "      <td>13.57</td>\n",
       "      <td>5.59</td>\n",
       "      <td>4.79</td>\n",
       "      <td>3.26</td>\n",
       "      <td>2.91</td>\n",
       "      <td>2.93</td>\n",
       "      <td>2.68</td>\n",
       "      <td>4.23</td>\n",
       "      <td>5.22</td>\n",
       "      <td>6.22</td>\n",
       "      <td>6.21</td>\n",
       "      <td>5.79</td>\n",
       "      <td>6.10</td>\n",
       "      <td>...</td>\n",
       "      <td>0.37</td>\n",
       "      <td>0.27</td>\n",
       "      <td>0.75</td>\n",
       "      <td>0.74</td>\n",
       "      <td>1.53</td>\n",
       "      <td>1.51</td>\n",
       "      <td>0.99</td>\n",
       "      <td>1.02</td>\n",
       "      <td>0.53</td>\n",
       "      <td>0.29</td>\n",
       "      <td>0.20</td>\n",
       "      <td>0.20</td>\n",
       "      <td>0.26</td>\n",
       "      <td>0.25</td>\n",
       "      <td>0.28</td>\n",
       "      <td>0.29</td>\n",
       "      <td>0.21</td>\n",
       "      <td>0.16</td>\n",
       "      <td>0.25</td>\n",
       "      <td>0.28</td>\n",
       "      <td>0.28</td>\n",
       "      <td>0.34</td>\n",
       "      <td>0.48</td>\n",
       "      <td>0.44</td>\n",
       "      <td>0.48</td>\n",
       "    </tr>\n",
       "    <tr>\n",
       "      <th>3</th>\n",
       "      <td>7</td>\n",
       "      <td>2.41</td>\n",
       "      <td>3.21</td>\n",
       "      <td>4.92</td>\n",
       "      <td>8.07</td>\n",
       "      <td>5.97</td>\n",
       "      <td>12.420000</td>\n",
       "      <td>10.820000</td>\n",
       "      <td>14.96</td>\n",
       "      <td>21.809999</td>\n",
       "      <td>19.629999</td>\n",
       "      <td>17.43</td>\n",
       "      <td>13.14</td>\n",
       "      <td>7.44</td>\n",
       "      <td>5.39</td>\n",
       "      <td>3.93</td>\n",
       "      <td>4.47</td>\n",
       "      <td>3.41</td>\n",
       "      <td>2.40</td>\n",
       "      <td>7.16</td>\n",
       "      <td>5.56</td>\n",
       "      <td>7.59</td>\n",
       "      <td>9.23</td>\n",
       "      <td>5.28</td>\n",
       "      <td>5.09</td>\n",
       "      <td>...</td>\n",
       "      <td>0.55</td>\n",
       "      <td>0.46</td>\n",
       "      <td>0.39</td>\n",
       "      <td>0.92</td>\n",
       "      <td>0.90</td>\n",
       "      <td>0.92</td>\n",
       "      <td>1.00</td>\n",
       "      <td>0.88</td>\n",
       "      <td>0.71</td>\n",
       "      <td>0.65</td>\n",
       "      <td>0.61</td>\n",
       "      <td>0.63</td>\n",
       "      <td>0.44</td>\n",
       "      <td>0.42</td>\n",
       "      <td>0.41</td>\n",
       "      <td>0.33</td>\n",
       "      <td>0.51</td>\n",
       "      <td>0.49</td>\n",
       "      <td>0.64</td>\n",
       "      <td>0.58</td>\n",
       "      <td>0.42</td>\n",
       "      <td>0.32</td>\n",
       "      <td>0.31</td>\n",
       "      <td>0.32</td>\n",
       "      <td>0.33</td>\n",
       "    </tr>\n",
       "    <tr>\n",
       "      <th>4</th>\n",
       "      <td>9</td>\n",
       "      <td>2.29</td>\n",
       "      <td>2.44</td>\n",
       "      <td>2.77</td>\n",
       "      <td>4.62</td>\n",
       "      <td>5.39</td>\n",
       "      <td>7.080000</td>\n",
       "      <td>9.840000</td>\n",
       "      <td>12.27</td>\n",
       "      <td>14.410000</td>\n",
       "      <td>13.310000</td>\n",
       "      <td>11.46</td>\n",
       "      <td>12.32</td>\n",
       "      <td>6.97</td>\n",
       "      <td>8.50</td>\n",
       "      <td>7.07</td>\n",
       "      <td>3.98</td>\n",
       "      <td>3.54</td>\n",
       "      <td>2.72</td>\n",
       "      <td>3.57</td>\n",
       "      <td>5.45</td>\n",
       "      <td>5.19</td>\n",
       "      <td>6.39</td>\n",
       "      <td>8.67</td>\n",
       "      <td>7.47</td>\n",
       "      <td>...</td>\n",
       "      <td>0.47</td>\n",
       "      <td>0.63</td>\n",
       "      <td>0.39</td>\n",
       "      <td>0.23</td>\n",
       "      <td>0.52</td>\n",
       "      <td>0.79</td>\n",
       "      <td>1.12</td>\n",
       "      <td>1.12</td>\n",
       "      <td>1.13</td>\n",
       "      <td>0.98</td>\n",
       "      <td>0.38</td>\n",
       "      <td>0.74</td>\n",
       "      <td>0.53</td>\n",
       "      <td>0.55</td>\n",
       "      <td>0.59</td>\n",
       "      <td>0.44</td>\n",
       "      <td>0.38</td>\n",
       "      <td>0.48</td>\n",
       "      <td>0.63</td>\n",
       "      <td>0.45</td>\n",
       "      <td>0.45</td>\n",
       "      <td>0.49</td>\n",
       "      <td>0.33</td>\n",
       "      <td>0.31</td>\n",
       "      <td>0.34</td>\n",
       "    </tr>\n",
       "  </tbody>\n",
       "</table>\n",
       "<p>5 rows × 401 columns</p>\n",
       "</div>"
      ],
      "text/plain": [
       "   time  LL_0.59  LL_0.78  LL_0.98  LL_1.17  LL_1.37    LL_1.56    LL_1.76  \\\n",
       "0     1     4.26    10.98     9.05    13.65    11.49   8.930000  18.840000   \n",
       "1     3     2.65     3.97    12.18    13.26    14.21  13.230000   9.650000   \n",
       "2     5     4.18     4.53     8.77    14.26    13.36  16.559999  19.219999   \n",
       "3     7     2.41     3.21     4.92     8.07     5.97  12.420000  10.820000   \n",
       "4     9     2.29     2.44     2.77     4.62     5.39   7.080000   9.840000   \n",
       "\n",
       "   LL_1.95    LL_2.15    LL_2.34  LL_2.54  LL_2.73  LL_2.93  LL_3.13  LL_3.32  \\\n",
       "0    19.26  19.240000  19.049999     8.82     5.40     6.47     6.08     3.94   \n",
       "1     8.11  11.280000   8.460000     5.48     4.17     5.55     3.96     4.71   \n",
       "2    17.51  22.650000  21.719999    17.75    13.57     5.59     4.79     3.26   \n",
       "3    14.96  21.809999  19.629999    17.43    13.14     7.44     5.39     3.93   \n",
       "4    12.27  14.410000  13.310000    11.46    12.32     6.97     8.50     7.07   \n",
       "\n",
       "   LL_3.52  LL_3.71  LL_3.91  LL_4.1  LL_4.3  LL_4.49  LL_4.69  LL_4.88  \\\n",
       "0     7.67     4.23     5.86    5.23    3.69     2.46     2.32     2.57   \n",
       "1     5.09     3.99     3.60    3.70    1.90     1.88     2.17     1.91   \n",
       "2     2.91     2.93     2.68    4.23    5.22     6.22     6.21     5.79   \n",
       "3     4.47     3.41     2.40    7.16    5.56     7.59     9.23     5.28   \n",
       "4     3.98     3.54     2.72    3.57    5.45     5.19     6.39     8.67   \n",
       "\n",
       "   LL_5.08  ...  RP_15.23  RP_15.43  RP_15.63  RP_15.82  RP_16.02  RP_16.21  \\\n",
       "0     3.32  ...      0.16      0.17      0.06      0.08      0.42      0.60   \n",
       "1     2.50  ...      0.17      0.25      0.31      0.61      0.86      1.03   \n",
       "2     6.10  ...      0.37      0.27      0.75      0.74      1.53      1.51   \n",
       "3     5.09  ...      0.55      0.46      0.39      0.92      0.90      0.92   \n",
       "4     7.47  ...      0.47      0.63      0.39      0.23      0.52      0.79   \n",
       "\n",
       "   RP_16.41  RP_16.6  RP_16.8  RP_16.99  RP_17.19  RP_17.38  RP_17.58  \\\n",
       "0      0.95     1.07     1.09      1.13      0.46      0.54      0.43   \n",
       "1      1.28     1.11     0.87      0.66      0.59      0.32      0.27   \n",
       "2      0.99     1.02     0.53      0.29      0.20      0.20      0.26   \n",
       "3      1.00     0.88     0.71      0.65      0.61      0.63      0.44   \n",
       "4      1.12     1.12     1.13      0.98      0.38      0.74      0.53   \n",
       "\n",
       "   RP_17.77  RP_17.97  RP_18.16  RP_18.36  RP_18.55  RP_18.75  RP_18.95  \\\n",
       "0      0.32      0.39      0.31      0.17      0.28      0.19      0.24   \n",
       "1      0.22      0.18      0.15      0.13      0.14      0.24      0.24   \n",
       "2      0.25      0.28      0.29      0.21      0.16      0.25      0.28   \n",
       "3      0.42      0.41      0.33      0.51      0.49      0.64      0.58   \n",
       "4      0.55      0.59      0.44      0.38      0.48      0.63      0.45   \n",
       "\n",
       "   RP_19.14  RP_19.34  RP_19.53  RP_19.73  RP_19.92  \n",
       "0      0.27      0.29      0.16      0.22      0.19  \n",
       "1      0.36      0.35      0.31      0.36      0.40  \n",
       "2      0.28      0.34      0.48      0.44      0.48  \n",
       "3      0.42      0.32      0.31      0.32      0.33  \n",
       "4      0.45      0.49      0.33      0.31      0.34  \n",
       "\n",
       "[5 rows x 401 columns]"
      ]
     },
     "execution_count": 9,
     "metadata": {},
     "output_type": "execute_result"
    }
   ],
   "source": [
    "# open the first spectrogram file\n",
    "spect1 = pd.read_parquet(train.spect_path[0])\n",
    "print(f'Spectrogram shape: {spect1.shape}')\n",
    "spect1.head()"
   ]
  },
  {
   "cell_type": "code",
   "execution_count": 10,
   "id": "58d0a53d",
   "metadata": {
    "ExecuteTime": {
     "end_time": "2024-01-24T13:18:46.393647255Z",
     "start_time": "2024-01-24T13:18:46.335795494Z"
    },
    "collapsed": false,
    "execution": {
     "iopub.execute_input": "2024-01-25T00:58:57.200679Z",
     "iopub.status.busy": "2024-01-25T00:58:57.200299Z",
     "iopub.status.idle": "2024-01-25T00:58:57.208060Z",
     "shell.execute_reply": "2024-01-25T00:58:57.206383Z"
    },
    "jupyter": {
     "outputs_hidden": false
    },
    "papermill": {
     "duration": 0.022844,
     "end_time": "2024-01-25T00:58:57.210801",
     "exception": false,
     "start_time": "2024-01-25T00:58:57.187957",
     "status": "completed"
    },
    "tags": []
   },
   "outputs": [
    {
     "name": "stdout",
     "output_type": "stream",
     "text": [
      "LL cols: 100\n",
      "LP cols: 100\n",
      "RL cols: 100\n",
      "RP cols: 100\n"
     ]
    }
   ],
   "source": [
    "# how many columns have 'LL', 'LR', etc. in them?\n",
    "print(f'LL cols: {len([col for col in spect1.columns if \"LL\" in col])}')\n",
    "print(f'LP cols: {len([col for col in spect1.columns if \"LP\" in col])}')\n",
    "print(f'RL cols: {len([col for col in spect1.columns if \"RL\" in col])}')\n",
    "print(f'RP cols: {len([col for col in spect1.columns if \"LP\" in col])}')"
   ]
  },
  {
   "cell_type": "markdown",
   "id": "c2239c5e",
   "metadata": {
    "papermill": {
     "duration": 0.01102,
     "end_time": "2024-01-25T00:58:57.232926",
     "exception": false,
     "start_time": "2024-01-25T00:58:57.221906",
     "status": "completed"
    },
    "tags": []
   },
   "source": [
    "### Takeaways\n",
    "* Have 1 time column and 100 columns each for LL, LP, RL, RP\n",
    "* Try both training on single image and splitting into 4 separate images"
   ]
  },
  {
   "cell_type": "markdown",
   "id": "38ad4a39",
   "metadata": {
    "papermill": {
     "duration": 0.010961,
     "end_time": "2024-01-25T00:58:57.254537",
     "exception": false,
     "start_time": "2024-01-25T00:58:57.243576",
     "status": "completed"
    },
    "tags": []
   },
   "source": [
    "## Create Dataset"
   ]
  },
  {
   "cell_type": "code",
   "execution_count": 11,
   "id": "ca0aad5f",
   "metadata": {
    "ExecuteTime": {
     "start_time": "2024-01-24T10:24:59.920289999Z"
    },
    "collapsed": false,
    "execution": {
     "iopub.execute_input": "2024-01-25T00:58:57.278387Z",
     "iopub.status.busy": "2024-01-25T00:58:57.277948Z",
     "iopub.status.idle": "2024-01-25T00:58:57.285281Z",
     "shell.execute_reply": "2024-01-25T00:58:57.283861Z"
    },
    "jupyter": {
     "outputs_hidden": false
    },
    "papermill": {
     "duration": 0.022767,
     "end_time": "2024-01-25T00:58:57.288096",
     "exception": false,
     "start_time": "2024-01-25T00:58:57.265329",
     "status": "completed"
    },
    "tags": []
   },
   "outputs": [],
   "source": [
    "# create a new subdirectory called /spectrograms if it doesn't exist\n",
    "if not os.path.exists('./spectrograms'):\n",
    "    os.mkdir('./spectrograms')\n",
    "\n",
    " # create subdirectories for each label\n",
    "for target in targets:\n",
    "    tar_path = f'./spectrograms/{target}'\n",
    "    if not os.path.exists(tar_path):\n",
    "        os.mkdir(tar_path)"
   ]
  },
  {
   "cell_type": "code",
   "execution_count": 12,
   "id": "54f6a163",
   "metadata": {
    "ExecuteTime": {
     "end_time": "2024-01-24T13:22:31.141046657Z",
     "start_time": "2024-01-24T13:20:19.537948788Z"
    },
    "collapsed": false,
    "execution": {
     "iopub.execute_input": "2024-01-25T00:58:57.313084Z",
     "iopub.status.busy": "2024-01-25T00:58:57.312694Z",
     "iopub.status.idle": "2024-01-25T02:41:03.929919Z",
     "shell.execute_reply": "2024-01-25T02:41:03.925078Z"
    },
    "jupyter": {
     "outputs_hidden": false
    },
    "papermill": {
     "duration": 6126.633836,
     "end_time": "2024-01-25T02:41:03.934115",
     "exception": false,
     "start_time": "2024-01-25T00:58:57.300279",
     "status": "completed"
    },
    "tags": []
   },
   "outputs": [
    {
     "name": "stderr",
     "output_type": "stream",
     "text": [
      "100%|██████████| 106800/106800 [1:42:06<00:00, 17.43it/s]\n"
     ]
    }
   ],
   "source": [
    "# fig,ax = plt.subplots(3,4,figsize=(15,10))\n",
    "# ax = ax.flatten()\n",
    "for i in tqdm(range(len(train))):\n",
    "    \n",
    "    spect_id = train.spectrogram_id[i]\n",
    "    spect_sub_id = train.spectrogram_sub_id[i]\n",
    "    spect_offset_sec = train.spectrogram_label_offset_seconds[i]\n",
    "    start = int(spect_offset_sec * .5)\n",
    "    end = start + 300\n",
    "    \n",
    "    df = pd.read_parquet(train.spect_path[i])\n",
    "    # get the name of the spectrogram file\n",
    "    #spect_id = int(spectrograms[i].split('/')[-1].split('.')[0])\n",
    "    #consensus = train_unique[train_unique.spectrogram_id == spect_id].expert_consensus.values[0]\n",
    "    # normalize the spectrogram between 0 and 1\n",
    "    spectrogram = df.values / df.values.max()\n",
    "    # swap x and y axis\n",
    "    spectrogram = spectrogram.T\n",
    "    # replace 0 values with 10e-9\n",
    "    spectrogram = np.where(spectrogram == 0, 10e-9,spectrogram)\n",
    "    # take the log of the spectrogram\n",
    "    spectrogram = np.log(spectrogram)\n",
    "    # make minimum value 0\n",
    "    spectrogram = spectrogram + np.abs(np.min(spectrogram))\n",
    "    # scale the spectrogram to have a max of 255\n",
    "    spectrogram = 255 * (spectrogram / spectrogram.max())\n",
    "    # convert to uint8\n",
    "    spectrogram = spectrogram.astype(np.uint8)\n",
    "\n",
    "    #img = cv2.imread(f'spectrograms/{spect_id}.png')\n",
    "    spect_crop = spectrogram[:,start:end]\n",
    "    if np.sum(spect_crop) > 0.0:\n",
    "        # loop through nonzero targets\n",
    "        for tar in targets:\n",
    "            if train[tar][i] > 0.0:\n",
    "                # save the cropped image to the appropriate label folder\n",
    "                cv2.imwrite(f'./spectrograms/{tar}/{spect_id}_{spect_sub_id}.png',spect_crop)\n",
    "    \n",
    "    # save the spectrogram as a png file in the folder /spectrograms\n",
    "\n",
    "    #cv2.imwrite(f'spectrograms/{spect_id}.png',spectrogram)\n",
    "#     ax[i].imshow(spectrogram,cmap='viridis')\n",
    "#     ax[i].set_title(f\"{spectrograms[i].split('/')[-1].split('.')[0]}, {consensus}\")\n",
    "# plt.tight_layout();\n"
   ]
  },
  {
   "cell_type": "code",
   "execution_count": 13,
   "id": "751450b0",
   "metadata": {
    "collapsed": false,
    "execution": {
     "iopub.execute_input": "2024-01-25T02:41:13.699404Z",
     "iopub.status.busy": "2024-01-25T02:41:13.697219Z",
     "iopub.status.idle": "2024-01-25T02:49:50.449562Z",
     "shell.execute_reply": "2024-01-25T02:49:50.445916Z"
    },
    "jupyter": {
     "outputs_hidden": false
    },
    "papermill": {
     "duration": 525.382885,
     "end_time": "2024-01-25T02:49:54.281267",
     "exception": false,
     "start_time": "2024-01-25T02:41:08.898382",
     "status": "completed"
    },
    "tags": []
   },
   "outputs": [
    {
     "name": "stdout",
     "output_type": "stream",
     "text": [
      "zip I/O error: No space left on device\r\n",
      "zip error: Output file write failure (write error on zip file)\r\n"
     ]
    }
   ],
   "source": [
    "from datetime import datetime\n",
    "today = datetime.today().strftime('%y-%m-%d')\n",
    "!zip -r -q f'HBA_spectrogram_images_dataset_{today}' /kaggle/working/spectrograms"
   ]
  },
  {
   "cell_type": "code",
   "execution_count": null,
   "id": "6903e838",
   "metadata": {
    "papermill": {
     "duration": 4.781365,
     "end_time": "2024-01-25T02:50:03.635864",
     "exception": false,
     "start_time": "2024-01-25T02:49:58.854499",
     "status": "completed"
    },
    "tags": []
   },
   "outputs": [],
   "source": []
  }
 ],
 "metadata": {
  "kaggle": {
   "accelerator": "none",
   "dataSources": [
    {
     "databundleVersionId": 7469972,
     "sourceId": 59093,
     "sourceType": "competition"
    }
   ],
   "dockerImageVersionId": 30635,
   "isGpuEnabled": false,
   "isInternetEnabled": true,
   "language": "python",
   "sourceType": "notebook"
  },
  "kernelspec": {
   "display_name": "Python 3",
   "language": "python",
   "name": "python3"
  },
  "language_info": {
   "codemirror_mode": {
    "name": "ipython",
    "version": 3
   },
   "file_extension": ".py",
   "mimetype": "text/x-python",
   "name": "python",
   "nbconvert_exporter": "python",
   "pygments_lexer": "ipython3",
   "version": "3.10.12"
  },
  "papermill": {
   "default_parameters": {},
   "duration": 6698.153469,
   "end_time": "2024-01-25T02:50:10.931326",
   "environment_variables": {},
   "exception": null,
   "input_path": "__notebook__.ipynb",
   "output_path": "__notebook__.ipynb",
   "parameters": {},
   "start_time": "2024-01-25T00:58:32.777857",
   "version": "2.4.0"
  }
 },
 "nbformat": 4,
 "nbformat_minor": 5
}
